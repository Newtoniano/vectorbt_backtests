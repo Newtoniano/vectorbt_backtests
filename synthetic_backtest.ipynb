{
 "cells": [
  {
   "cell_type": "markdown",
   "metadata": {},
   "source": [
    "## TQQQ For The Long Term Minimal v1.4 backtest using synthetic LETFs\n",
    "This a backtest of the [aforementioned strategy](https://app.composer.trade/symphony/ENIv7HRFOYK5q7CW91NX/details) using synthetically generated LETFs data that allows us to have valid and accurate simulated close prices, dating all the way back to the inception date of the corresponding unleveraged ETF they are based on. Real and simulated data are combined together to form a longer time-series."
   ]
  },
  {
   "cell_type": "code",
   "execution_count": 1,
   "metadata": {},
   "outputs": [],
   "source": [
    "import pandas as pd\n",
    "import yfinance as yf\n",
    "import pandas_ta as ta\n",
    "import plotly.express as px"
   ]
  },
  {
   "cell_type": "code",
   "execution_count": 2,
   "metadata": {},
   "outputs": [
    {
     "data": {
      "text/html": [
       "<div>\n",
       "<style scoped>\n",
       "    .dataframe tbody tr th:only-of-type {\n",
       "        vertical-align: middle;\n",
       "    }\n",
       "\n",
       "    .dataframe tbody tr th {\n",
       "        vertical-align: top;\n",
       "    }\n",
       "\n",
       "    .dataframe thead th {\n",
       "        text-align: right;\n",
       "    }\n",
       "</style>\n",
       "<table border=\"1\" class=\"dataframe\">\n",
       "  <thead>\n",
       "    <tr style=\"text-align: right;\">\n",
       "      <th></th>\n",
       "      <th>SSO</th>\n",
       "      <th>UPRO</th>\n",
       "      <th>SPXL</th>\n",
       "      <th>SH</th>\n",
       "      <th>SDS</th>\n",
       "      <th>SPXS</th>\n",
       "      <th>QLD</th>\n",
       "      <th>TQQQ</th>\n",
       "      <th>PSQ</th>\n",
       "      <th>QID</th>\n",
       "      <th>...</th>\n",
       "      <th>TYO</th>\n",
       "      <th>UBT</th>\n",
       "      <th>TMF</th>\n",
       "      <th>TBF</th>\n",
       "      <th>TBT</th>\n",
       "      <th>TMV</th>\n",
       "      <th>UGL</th>\n",
       "      <th>GLL</th>\n",
       "      <th>UVXY</th>\n",
       "      <th>TLT</th>\n",
       "    </tr>\n",
       "    <tr>\n",
       "      <th>Date</th>\n",
       "      <th></th>\n",
       "      <th></th>\n",
       "      <th></th>\n",
       "      <th></th>\n",
       "      <th></th>\n",
       "      <th></th>\n",
       "      <th></th>\n",
       "      <th></th>\n",
       "      <th></th>\n",
       "      <th></th>\n",
       "      <th></th>\n",
       "      <th></th>\n",
       "      <th></th>\n",
       "      <th></th>\n",
       "      <th></th>\n",
       "      <th></th>\n",
       "      <th></th>\n",
       "      <th></th>\n",
       "      <th></th>\n",
       "      <th></th>\n",
       "      <th></th>\n",
       "    </tr>\n",
       "  </thead>\n",
       "  <tbody>\n",
       "    <tr>\n",
       "      <th>1986-05-19</th>\n",
       "      <td>NaN</td>\n",
       "      <td>NaN</td>\n",
       "      <td>NaN</td>\n",
       "      <td>NaN</td>\n",
       "      <td>NaN</td>\n",
       "      <td>NaN</td>\n",
       "      <td>NaN</td>\n",
       "      <td>NaN</td>\n",
       "      <td>NaN</td>\n",
       "      <td>NaN</td>\n",
       "      <td>...</td>\n",
       "      <td>NaN</td>\n",
       "      <td>NaN</td>\n",
       "      <td>0.69170</td>\n",
       "      <td>NaN</td>\n",
       "      <td>NaN</td>\n",
       "      <td>NaN</td>\n",
       "      <td>NaN</td>\n",
       "      <td>NaN</td>\n",
       "      <td>NaN</td>\n",
       "      <td>10.60539</td>\n",
       "    </tr>\n",
       "    <tr>\n",
       "      <th>1986-05-20</th>\n",
       "      <td>NaN</td>\n",
       "      <td>NaN</td>\n",
       "      <td>NaN</td>\n",
       "      <td>NaN</td>\n",
       "      <td>NaN</td>\n",
       "      <td>NaN</td>\n",
       "      <td>NaN</td>\n",
       "      <td>NaN</td>\n",
       "      <td>NaN</td>\n",
       "      <td>NaN</td>\n",
       "      <td>...</td>\n",
       "      <td>NaN</td>\n",
       "      <td>NaN</td>\n",
       "      <td>0.68715</td>\n",
       "      <td>NaN</td>\n",
       "      <td>NaN</td>\n",
       "      <td>NaN</td>\n",
       "      <td>NaN</td>\n",
       "      <td>NaN</td>\n",
       "      <td>NaN</td>\n",
       "      <td>10.58417</td>\n",
       "    </tr>\n",
       "    <tr>\n",
       "      <th>1986-05-21</th>\n",
       "      <td>NaN</td>\n",
       "      <td>NaN</td>\n",
       "      <td>NaN</td>\n",
       "      <td>NaN</td>\n",
       "      <td>NaN</td>\n",
       "      <td>NaN</td>\n",
       "      <td>NaN</td>\n",
       "      <td>NaN</td>\n",
       "      <td>NaN</td>\n",
       "      <td>NaN</td>\n",
       "      <td>...</td>\n",
       "      <td>NaN</td>\n",
       "      <td>NaN</td>\n",
       "      <td>0.70741</td>\n",
       "      <td>NaN</td>\n",
       "      <td>NaN</td>\n",
       "      <td>NaN</td>\n",
       "      <td>NaN</td>\n",
       "      <td>NaN</td>\n",
       "      <td>NaN</td>\n",
       "      <td>10.69021</td>\n",
       "    </tr>\n",
       "    <tr>\n",
       "      <th>1986-05-22</th>\n",
       "      <td>NaN</td>\n",
       "      <td>NaN</td>\n",
       "      <td>NaN</td>\n",
       "      <td>NaN</td>\n",
       "      <td>NaN</td>\n",
       "      <td>NaN</td>\n",
       "      <td>NaN</td>\n",
       "      <td>NaN</td>\n",
       "      <td>NaN</td>\n",
       "      <td>NaN</td>\n",
       "      <td>...</td>\n",
       "      <td>NaN</td>\n",
       "      <td>NaN</td>\n",
       "      <td>0.70279</td>\n",
       "      <td>NaN</td>\n",
       "      <td>NaN</td>\n",
       "      <td>NaN</td>\n",
       "      <td>NaN</td>\n",
       "      <td>NaN</td>\n",
       "      <td>NaN</td>\n",
       "      <td>10.66902</td>\n",
       "    </tr>\n",
       "    <tr>\n",
       "      <th>1986-05-23</th>\n",
       "      <td>NaN</td>\n",
       "      <td>NaN</td>\n",
       "      <td>NaN</td>\n",
       "      <td>NaN</td>\n",
       "      <td>NaN</td>\n",
       "      <td>NaN</td>\n",
       "      <td>NaN</td>\n",
       "      <td>NaN</td>\n",
       "      <td>NaN</td>\n",
       "      <td>NaN</td>\n",
       "      <td>...</td>\n",
       "      <td>NaN</td>\n",
       "      <td>NaN</td>\n",
       "      <td>0.70658</td>\n",
       "      <td>NaN</td>\n",
       "      <td>NaN</td>\n",
       "      <td>NaN</td>\n",
       "      <td>NaN</td>\n",
       "      <td>NaN</td>\n",
       "      <td>NaN</td>\n",
       "      <td>10.69021</td>\n",
       "    </tr>\n",
       "    <tr>\n",
       "      <th>...</th>\n",
       "      <td>...</td>\n",
       "      <td>...</td>\n",
       "      <td>...</td>\n",
       "      <td>...</td>\n",
       "      <td>...</td>\n",
       "      <td>...</td>\n",
       "      <td>...</td>\n",
       "      <td>...</td>\n",
       "      <td>...</td>\n",
       "      <td>...</td>\n",
       "      <td>...</td>\n",
       "      <td>...</td>\n",
       "      <td>...</td>\n",
       "      <td>...</td>\n",
       "      <td>...</td>\n",
       "      <td>...</td>\n",
       "      <td>...</td>\n",
       "      <td>...</td>\n",
       "      <td>...</td>\n",
       "      <td>...</td>\n",
       "      <td>...</td>\n",
       "    </tr>\n",
       "    <tr>\n",
       "      <th>2022-10-12</th>\n",
       "      <td>39.42</td>\n",
       "      <td>27.97</td>\n",
       "      <td>52.77</td>\n",
       "      <td>17.30</td>\n",
       "      <td>54.48</td>\n",
       "      <td>29.31</td>\n",
       "      <td>35.26</td>\n",
       "      <td>18.10</td>\n",
       "      <td>15.14</td>\n",
       "      <td>28.14</td>\n",
       "      <td>...</td>\n",
       "      <td>13.84</td>\n",
       "      <td>24.81</td>\n",
       "      <td>8.06000</td>\n",
       "      <td>22.69</td>\n",
       "      <td>33.01</td>\n",
       "      <td>141.25999</td>\n",
       "      <td>47.6000</td>\n",
       "      <td>36.62</td>\n",
       "      <td>13.25000</td>\n",
       "      <td>100.35000</td>\n",
       "    </tr>\n",
       "    <tr>\n",
       "      <th>2022-10-13</th>\n",
       "      <td>41.49</td>\n",
       "      <td>30.14</td>\n",
       "      <td>56.85</td>\n",
       "      <td>16.85</td>\n",
       "      <td>51.63</td>\n",
       "      <td>27.04</td>\n",
       "      <td>36.86</td>\n",
       "      <td>19.31</td>\n",
       "      <td>14.79</td>\n",
       "      <td>26.89</td>\n",
       "      <td>...</td>\n",
       "      <td>14.03</td>\n",
       "      <td>24.32</td>\n",
       "      <td>7.85000</td>\n",
       "      <td>22.93</td>\n",
       "      <td>33.63</td>\n",
       "      <td>145.06000</td>\n",
       "      <td>46.9100</td>\n",
       "      <td>37.12</td>\n",
       "      <td>12.69000</td>\n",
       "      <td>99.39000</td>\n",
       "    </tr>\n",
       "    <tr>\n",
       "      <th>2022-10-14</th>\n",
       "      <td>39.60</td>\n",
       "      <td>28.08</td>\n",
       "      <td>52.98</td>\n",
       "      <td>17.23</td>\n",
       "      <td>53.93</td>\n",
       "      <td>28.87</td>\n",
       "      <td>34.62</td>\n",
       "      <td>17.57</td>\n",
       "      <td>15.25</td>\n",
       "      <td>28.51</td>\n",
       "      <td>...</td>\n",
       "      <td>14.20</td>\n",
       "      <td>23.97</td>\n",
       "      <td>7.67000</td>\n",
       "      <td>23.12</td>\n",
       "      <td>34.19</td>\n",
       "      <td>148.89000</td>\n",
       "      <td>45.7400</td>\n",
       "      <td>38.08</td>\n",
       "      <td>13.14000</td>\n",
       "      <td>98.57000</td>\n",
       "    </tr>\n",
       "    <tr>\n",
       "      <th>2022-10-17</th>\n",
       "      <td>41.61</td>\n",
       "      <td>30.21</td>\n",
       "      <td>57.00</td>\n",
       "      <td>16.79</td>\n",
       "      <td>51.22</td>\n",
       "      <td>26.66</td>\n",
       "      <td>36.97</td>\n",
       "      <td>19.30</td>\n",
       "      <td>14.72</td>\n",
       "      <td>26.56</td>\n",
       "      <td>...</td>\n",
       "      <td>14.18</td>\n",
       "      <td>23.68</td>\n",
       "      <td>7.53000</td>\n",
       "      <td>23.26</td>\n",
       "      <td>34.61</td>\n",
       "      <td>151.49001</td>\n",
       "      <td>45.9700</td>\n",
       "      <td>37.84</td>\n",
       "      <td>12.61000</td>\n",
       "      <td>98.09000</td>\n",
       "    </tr>\n",
       "    <tr>\n",
       "      <th>2022-10-18</th>\n",
       "      <td>42.57</td>\n",
       "      <td>31.11</td>\n",
       "      <td>58.99</td>\n",
       "      <td>16.59</td>\n",
       "      <td>49.96</td>\n",
       "      <td>25.73</td>\n",
       "      <td>37.55</td>\n",
       "      <td>19.78</td>\n",
       "      <td>14.59</td>\n",
       "      <td>26.17</td>\n",
       "      <td>...</td>\n",
       "      <td>14.13</td>\n",
       "      <td>23.80</td>\n",
       "      <td>7.59000</td>\n",
       "      <td>23.21</td>\n",
       "      <td>34.40</td>\n",
       "      <td>150.53999</td>\n",
       "      <td>46.1852</td>\n",
       "      <td>37.72</td>\n",
       "      <td>12.21000</td>\n",
       "      <td>98.32000</td>\n",
       "    </tr>\n",
       "  </tbody>\n",
       "</table>\n",
       "<p>9180 rows × 43 columns</p>\n",
       "</div>"
      ],
      "text/plain": [
       "              SSO   UPRO   SPXL     SH    SDS   SPXS    QLD   TQQQ    PSQ  \\\n",
       "Date                                                                        \n",
       "1986-05-19    NaN    NaN    NaN    NaN    NaN    NaN    NaN    NaN    NaN   \n",
       "1986-05-20    NaN    NaN    NaN    NaN    NaN    NaN    NaN    NaN    NaN   \n",
       "1986-05-21    NaN    NaN    NaN    NaN    NaN    NaN    NaN    NaN    NaN   \n",
       "1986-05-22    NaN    NaN    NaN    NaN    NaN    NaN    NaN    NaN    NaN   \n",
       "1986-05-23    NaN    NaN    NaN    NaN    NaN    NaN    NaN    NaN    NaN   \n",
       "...           ...    ...    ...    ...    ...    ...    ...    ...    ...   \n",
       "2022-10-12  39.42  27.97  52.77  17.30  54.48  29.31  35.26  18.10  15.14   \n",
       "2022-10-13  41.49  30.14  56.85  16.85  51.63  27.04  36.86  19.31  14.79   \n",
       "2022-10-14  39.60  28.08  52.98  17.23  53.93  28.87  34.62  17.57  15.25   \n",
       "2022-10-17  41.61  30.21  57.00  16.79  51.22  26.66  36.97  19.30  14.72   \n",
       "2022-10-18  42.57  31.11  58.99  16.59  49.96  25.73  37.55  19.78  14.59   \n",
       "\n",
       "              QID  ...    TYO    UBT      TMF    TBF    TBT        TMV  \\\n",
       "Date               ...                                                   \n",
       "1986-05-19    NaN  ...    NaN    NaN  0.69170    NaN    NaN        NaN   \n",
       "1986-05-20    NaN  ...    NaN    NaN  0.68715    NaN    NaN        NaN   \n",
       "1986-05-21    NaN  ...    NaN    NaN  0.70741    NaN    NaN        NaN   \n",
       "1986-05-22    NaN  ...    NaN    NaN  0.70279    NaN    NaN        NaN   \n",
       "1986-05-23    NaN  ...    NaN    NaN  0.70658    NaN    NaN        NaN   \n",
       "...           ...  ...    ...    ...      ...    ...    ...        ...   \n",
       "2022-10-12  28.14  ...  13.84  24.81  8.06000  22.69  33.01  141.25999   \n",
       "2022-10-13  26.89  ...  14.03  24.32  7.85000  22.93  33.63  145.06000   \n",
       "2022-10-14  28.51  ...  14.20  23.97  7.67000  23.12  34.19  148.89000   \n",
       "2022-10-17  26.56  ...  14.18  23.68  7.53000  23.26  34.61  151.49001   \n",
       "2022-10-18  26.17  ...  14.13  23.80  7.59000  23.21  34.40  150.53999   \n",
       "\n",
       "                UGL    GLL      UVXY        TLT  \n",
       "Date                                             \n",
       "1986-05-19      NaN    NaN       NaN   10.60539  \n",
       "1986-05-20      NaN    NaN       NaN   10.58417  \n",
       "1986-05-21      NaN    NaN       NaN   10.69021  \n",
       "1986-05-22      NaN    NaN       NaN   10.66902  \n",
       "1986-05-23      NaN    NaN       NaN   10.69021  \n",
       "...             ...    ...       ...        ...  \n",
       "2022-10-12  47.6000  36.62  13.25000  100.35000  \n",
       "2022-10-13  46.9100  37.12  12.69000   99.39000  \n",
       "2022-10-14  45.7400  38.08  13.14000   98.57000  \n",
       "2022-10-17  45.9700  37.84  12.61000   98.09000  \n",
       "2022-10-18  46.1852  37.72  12.21000   98.32000  \n",
       "\n",
       "[9180 rows x 43 columns]"
      ]
     },
     "execution_count": 2,
     "metadata": {},
     "output_type": "execute_result"
    }
   ],
   "source": [
    "# Import the LETFs data\n",
    "data = pd.read_csv(\"./data/extended-leveraged-etfs.csv\", index_col=0, parse_dates=True)\n",
    "data"
   ]
  },
  {
   "cell_type": "markdown",
   "metadata": {},
   "source": [
    "We now download the additional unleveraged ETFs required for this specific strategy backtest, and add them to the dataframe. It's possible to generate synthetic versions of these unleveraged ETFs too (there's already TLT in the data above, for example), but the results might be less accurate depending on what index you choose to generate the returns."
   ]
  },
  {
   "cell_type": "code",
   "execution_count": 3,
   "metadata": {},
   "outputs": [
    {
     "name": "stdout",
     "output_type": "stream",
     "text": [
      "[*********************100%***********************]  2 of 2 completed\n"
     ]
    },
    {
     "data": {
      "text/html": [
       "<div>\n",
       "<style scoped>\n",
       "    .dataframe tbody tr th:only-of-type {\n",
       "        vertical-align: middle;\n",
       "    }\n",
       "\n",
       "    .dataframe tbody tr th {\n",
       "        vertical-align: top;\n",
       "    }\n",
       "\n",
       "    .dataframe thead th {\n",
       "        text-align: right;\n",
       "    }\n",
       "</style>\n",
       "<table border=\"1\" class=\"dataframe\">\n",
       "  <thead>\n",
       "    <tr style=\"text-align: right;\">\n",
       "      <th></th>\n",
       "      <th>SSO</th>\n",
       "      <th>UPRO</th>\n",
       "      <th>SPXL</th>\n",
       "      <th>SH</th>\n",
       "      <th>SDS</th>\n",
       "      <th>SPXS</th>\n",
       "      <th>QLD</th>\n",
       "      <th>TQQQ</th>\n",
       "      <th>PSQ</th>\n",
       "      <th>QID</th>\n",
       "      <th>...</th>\n",
       "      <th>TMF</th>\n",
       "      <th>TBF</th>\n",
       "      <th>TBT</th>\n",
       "      <th>TMV</th>\n",
       "      <th>UGL</th>\n",
       "      <th>GLL</th>\n",
       "      <th>UVXY</th>\n",
       "      <th>TLT</th>\n",
       "      <th>QQQ</th>\n",
       "      <th>SPY</th>\n",
       "    </tr>\n",
       "    <tr>\n",
       "      <th>Date</th>\n",
       "      <th></th>\n",
       "      <th></th>\n",
       "      <th></th>\n",
       "      <th></th>\n",
       "      <th></th>\n",
       "      <th></th>\n",
       "      <th></th>\n",
       "      <th></th>\n",
       "      <th></th>\n",
       "      <th></th>\n",
       "      <th></th>\n",
       "      <th></th>\n",
       "      <th></th>\n",
       "      <th></th>\n",
       "      <th></th>\n",
       "      <th></th>\n",
       "      <th></th>\n",
       "      <th></th>\n",
       "      <th></th>\n",
       "      <th></th>\n",
       "      <th></th>\n",
       "    </tr>\n",
       "  </thead>\n",
       "  <tbody>\n",
       "    <tr>\n",
       "      <th>1986-05-19</th>\n",
       "      <td>NaN</td>\n",
       "      <td>NaN</td>\n",
       "      <td>NaN</td>\n",
       "      <td>NaN</td>\n",
       "      <td>NaN</td>\n",
       "      <td>NaN</td>\n",
       "      <td>NaN</td>\n",
       "      <td>NaN</td>\n",
       "      <td>NaN</td>\n",
       "      <td>NaN</td>\n",
       "      <td>...</td>\n",
       "      <td>0.69170</td>\n",
       "      <td>NaN</td>\n",
       "      <td>NaN</td>\n",
       "      <td>NaN</td>\n",
       "      <td>NaN</td>\n",
       "      <td>NaN</td>\n",
       "      <td>NaN</td>\n",
       "      <td>10.60539</td>\n",
       "      <td>NaN</td>\n",
       "      <td>NaN</td>\n",
       "    </tr>\n",
       "    <tr>\n",
       "      <th>1986-05-20</th>\n",
       "      <td>NaN</td>\n",
       "      <td>NaN</td>\n",
       "      <td>NaN</td>\n",
       "      <td>NaN</td>\n",
       "      <td>NaN</td>\n",
       "      <td>NaN</td>\n",
       "      <td>NaN</td>\n",
       "      <td>NaN</td>\n",
       "      <td>NaN</td>\n",
       "      <td>NaN</td>\n",
       "      <td>...</td>\n",
       "      <td>0.68715</td>\n",
       "      <td>NaN</td>\n",
       "      <td>NaN</td>\n",
       "      <td>NaN</td>\n",
       "      <td>NaN</td>\n",
       "      <td>NaN</td>\n",
       "      <td>NaN</td>\n",
       "      <td>10.58417</td>\n",
       "      <td>NaN</td>\n",
       "      <td>NaN</td>\n",
       "    </tr>\n",
       "    <tr>\n",
       "      <th>1986-05-21</th>\n",
       "      <td>NaN</td>\n",
       "      <td>NaN</td>\n",
       "      <td>NaN</td>\n",
       "      <td>NaN</td>\n",
       "      <td>NaN</td>\n",
       "      <td>NaN</td>\n",
       "      <td>NaN</td>\n",
       "      <td>NaN</td>\n",
       "      <td>NaN</td>\n",
       "      <td>NaN</td>\n",
       "      <td>...</td>\n",
       "      <td>0.70741</td>\n",
       "      <td>NaN</td>\n",
       "      <td>NaN</td>\n",
       "      <td>NaN</td>\n",
       "      <td>NaN</td>\n",
       "      <td>NaN</td>\n",
       "      <td>NaN</td>\n",
       "      <td>10.69021</td>\n",
       "      <td>NaN</td>\n",
       "      <td>NaN</td>\n",
       "    </tr>\n",
       "    <tr>\n",
       "      <th>1986-05-22</th>\n",
       "      <td>NaN</td>\n",
       "      <td>NaN</td>\n",
       "      <td>NaN</td>\n",
       "      <td>NaN</td>\n",
       "      <td>NaN</td>\n",
       "      <td>NaN</td>\n",
       "      <td>NaN</td>\n",
       "      <td>NaN</td>\n",
       "      <td>NaN</td>\n",
       "      <td>NaN</td>\n",
       "      <td>...</td>\n",
       "      <td>0.70279</td>\n",
       "      <td>NaN</td>\n",
       "      <td>NaN</td>\n",
       "      <td>NaN</td>\n",
       "      <td>NaN</td>\n",
       "      <td>NaN</td>\n",
       "      <td>NaN</td>\n",
       "      <td>10.66902</td>\n",
       "      <td>NaN</td>\n",
       "      <td>NaN</td>\n",
       "    </tr>\n",
       "    <tr>\n",
       "      <th>1986-05-23</th>\n",
       "      <td>NaN</td>\n",
       "      <td>NaN</td>\n",
       "      <td>NaN</td>\n",
       "      <td>NaN</td>\n",
       "      <td>NaN</td>\n",
       "      <td>NaN</td>\n",
       "      <td>NaN</td>\n",
       "      <td>NaN</td>\n",
       "      <td>NaN</td>\n",
       "      <td>NaN</td>\n",
       "      <td>...</td>\n",
       "      <td>0.70658</td>\n",
       "      <td>NaN</td>\n",
       "      <td>NaN</td>\n",
       "      <td>NaN</td>\n",
       "      <td>NaN</td>\n",
       "      <td>NaN</td>\n",
       "      <td>NaN</td>\n",
       "      <td>10.69021</td>\n",
       "      <td>NaN</td>\n",
       "      <td>NaN</td>\n",
       "    </tr>\n",
       "    <tr>\n",
       "      <th>...</th>\n",
       "      <td>...</td>\n",
       "      <td>...</td>\n",
       "      <td>...</td>\n",
       "      <td>...</td>\n",
       "      <td>...</td>\n",
       "      <td>...</td>\n",
       "      <td>...</td>\n",
       "      <td>...</td>\n",
       "      <td>...</td>\n",
       "      <td>...</td>\n",
       "      <td>...</td>\n",
       "      <td>...</td>\n",
       "      <td>...</td>\n",
       "      <td>...</td>\n",
       "      <td>...</td>\n",
       "      <td>...</td>\n",
       "      <td>...</td>\n",
       "      <td>...</td>\n",
       "      <td>...</td>\n",
       "      <td>...</td>\n",
       "      <td>...</td>\n",
       "    </tr>\n",
       "    <tr>\n",
       "      <th>2022-10-12</th>\n",
       "      <td>39.42</td>\n",
       "      <td>27.97</td>\n",
       "      <td>52.77</td>\n",
       "      <td>17.30</td>\n",
       "      <td>54.48</td>\n",
       "      <td>29.31</td>\n",
       "      <td>35.26</td>\n",
       "      <td>18.10</td>\n",
       "      <td>15.14</td>\n",
       "      <td>28.14</td>\n",
       "      <td>...</td>\n",
       "      <td>8.06000</td>\n",
       "      <td>22.69</td>\n",
       "      <td>33.01</td>\n",
       "      <td>141.25999</td>\n",
       "      <td>47.6000</td>\n",
       "      <td>36.62</td>\n",
       "      <td>13.25000</td>\n",
       "      <td>100.35000</td>\n",
       "      <td>262.660004</td>\n",
       "      <td>356.559998</td>\n",
       "    </tr>\n",
       "    <tr>\n",
       "      <th>2022-10-13</th>\n",
       "      <td>41.49</td>\n",
       "      <td>30.14</td>\n",
       "      <td>56.85</td>\n",
       "      <td>16.85</td>\n",
       "      <td>51.63</td>\n",
       "      <td>27.04</td>\n",
       "      <td>36.86</td>\n",
       "      <td>19.31</td>\n",
       "      <td>14.79</td>\n",
       "      <td>26.89</td>\n",
       "      <td>...</td>\n",
       "      <td>7.85000</td>\n",
       "      <td>22.93</td>\n",
       "      <td>33.63</td>\n",
       "      <td>145.06000</td>\n",
       "      <td>46.9100</td>\n",
       "      <td>37.12</td>\n",
       "      <td>12.69000</td>\n",
       "      <td>99.39000</td>\n",
       "      <td>268.820007</td>\n",
       "      <td>365.970001</td>\n",
       "    </tr>\n",
       "    <tr>\n",
       "      <th>2022-10-14</th>\n",
       "      <td>39.60</td>\n",
       "      <td>28.08</td>\n",
       "      <td>52.98</td>\n",
       "      <td>17.23</td>\n",
       "      <td>53.93</td>\n",
       "      <td>28.87</td>\n",
       "      <td>34.62</td>\n",
       "      <td>17.57</td>\n",
       "      <td>15.25</td>\n",
       "      <td>28.51</td>\n",
       "      <td>...</td>\n",
       "      <td>7.67000</td>\n",
       "      <td>23.12</td>\n",
       "      <td>34.19</td>\n",
       "      <td>148.89000</td>\n",
       "      <td>45.7400</td>\n",
       "      <td>38.08</td>\n",
       "      <td>13.14000</td>\n",
       "      <td>98.57000</td>\n",
       "      <td>260.739990</td>\n",
       "      <td>357.630005</td>\n",
       "    </tr>\n",
       "    <tr>\n",
       "      <th>2022-10-17</th>\n",
       "      <td>41.61</td>\n",
       "      <td>30.21</td>\n",
       "      <td>57.00</td>\n",
       "      <td>16.79</td>\n",
       "      <td>51.22</td>\n",
       "      <td>26.66</td>\n",
       "      <td>36.97</td>\n",
       "      <td>19.30</td>\n",
       "      <td>14.72</td>\n",
       "      <td>26.56</td>\n",
       "      <td>...</td>\n",
       "      <td>7.53000</td>\n",
       "      <td>23.26</td>\n",
       "      <td>34.61</td>\n",
       "      <td>151.49001</td>\n",
       "      <td>45.9700</td>\n",
       "      <td>37.84</td>\n",
       "      <td>12.61000</td>\n",
       "      <td>98.09000</td>\n",
       "      <td>269.350006</td>\n",
       "      <td>366.820007</td>\n",
       "    </tr>\n",
       "    <tr>\n",
       "      <th>2022-10-18</th>\n",
       "      <td>42.57</td>\n",
       "      <td>31.11</td>\n",
       "      <td>58.99</td>\n",
       "      <td>16.59</td>\n",
       "      <td>49.96</td>\n",
       "      <td>25.73</td>\n",
       "      <td>37.55</td>\n",
       "      <td>19.78</td>\n",
       "      <td>14.59</td>\n",
       "      <td>26.17</td>\n",
       "      <td>...</td>\n",
       "      <td>7.59000</td>\n",
       "      <td>23.21</td>\n",
       "      <td>34.40</td>\n",
       "      <td>150.53999</td>\n",
       "      <td>46.1852</td>\n",
       "      <td>37.72</td>\n",
       "      <td>12.21000</td>\n",
       "      <td>98.32000</td>\n",
       "      <td>271.480011</td>\n",
       "      <td>371.130005</td>\n",
       "    </tr>\n",
       "  </tbody>\n",
       "</table>\n",
       "<p>9180 rows × 45 columns</p>\n",
       "</div>"
      ],
      "text/plain": [
       "              SSO   UPRO   SPXL     SH    SDS   SPXS    QLD   TQQQ    PSQ  \\\n",
       "Date                                                                        \n",
       "1986-05-19    NaN    NaN    NaN    NaN    NaN    NaN    NaN    NaN    NaN   \n",
       "1986-05-20    NaN    NaN    NaN    NaN    NaN    NaN    NaN    NaN    NaN   \n",
       "1986-05-21    NaN    NaN    NaN    NaN    NaN    NaN    NaN    NaN    NaN   \n",
       "1986-05-22    NaN    NaN    NaN    NaN    NaN    NaN    NaN    NaN    NaN   \n",
       "1986-05-23    NaN    NaN    NaN    NaN    NaN    NaN    NaN    NaN    NaN   \n",
       "...           ...    ...    ...    ...    ...    ...    ...    ...    ...   \n",
       "2022-10-12  39.42  27.97  52.77  17.30  54.48  29.31  35.26  18.10  15.14   \n",
       "2022-10-13  41.49  30.14  56.85  16.85  51.63  27.04  36.86  19.31  14.79   \n",
       "2022-10-14  39.60  28.08  52.98  17.23  53.93  28.87  34.62  17.57  15.25   \n",
       "2022-10-17  41.61  30.21  57.00  16.79  51.22  26.66  36.97  19.30  14.72   \n",
       "2022-10-18  42.57  31.11  58.99  16.59  49.96  25.73  37.55  19.78  14.59   \n",
       "\n",
       "              QID  ...      TMF    TBF    TBT        TMV      UGL    GLL  \\\n",
       "Date               ...                                                     \n",
       "1986-05-19    NaN  ...  0.69170    NaN    NaN        NaN      NaN    NaN   \n",
       "1986-05-20    NaN  ...  0.68715    NaN    NaN        NaN      NaN    NaN   \n",
       "1986-05-21    NaN  ...  0.70741    NaN    NaN        NaN      NaN    NaN   \n",
       "1986-05-22    NaN  ...  0.70279    NaN    NaN        NaN      NaN    NaN   \n",
       "1986-05-23    NaN  ...  0.70658    NaN    NaN        NaN      NaN    NaN   \n",
       "...           ...  ...      ...    ...    ...        ...      ...    ...   \n",
       "2022-10-12  28.14  ...  8.06000  22.69  33.01  141.25999  47.6000  36.62   \n",
       "2022-10-13  26.89  ...  7.85000  22.93  33.63  145.06000  46.9100  37.12   \n",
       "2022-10-14  28.51  ...  7.67000  23.12  34.19  148.89000  45.7400  38.08   \n",
       "2022-10-17  26.56  ...  7.53000  23.26  34.61  151.49001  45.9700  37.84   \n",
       "2022-10-18  26.17  ...  7.59000  23.21  34.40  150.53999  46.1852  37.72   \n",
       "\n",
       "                UVXY        TLT         QQQ         SPY  \n",
       "Date                                                     \n",
       "1986-05-19       NaN   10.60539         NaN         NaN  \n",
       "1986-05-20       NaN   10.58417         NaN         NaN  \n",
       "1986-05-21       NaN   10.69021         NaN         NaN  \n",
       "1986-05-22       NaN   10.66902         NaN         NaN  \n",
       "1986-05-23       NaN   10.69021         NaN         NaN  \n",
       "...              ...        ...         ...         ...  \n",
       "2022-10-12  13.25000  100.35000  262.660004  356.559998  \n",
       "2022-10-13  12.69000   99.39000  268.820007  365.970001  \n",
       "2022-10-14  13.14000   98.57000  260.739990  357.630005  \n",
       "2022-10-17  12.61000   98.09000  269.350006  366.820007  \n",
       "2022-10-18  12.21000   98.32000  271.480011  371.130005  \n",
       "\n",
       "[9180 rows x 45 columns]"
      ]
     },
     "execution_count": 3,
     "metadata": {},
     "output_type": "execute_result"
    }
   ],
   "source": [
    "# Download the additional unleveraged ETFs required for this specific strategy backtest\n",
    "unleveraged_etfs = yf.download([\"SPY\", \"QQQ\"])[\"Adj Close\"]\n",
    "unleveraged_etfs.index = unleveraged_etfs.index.tz_localize(None) # remove time info while keeping index type as datetime\n",
    "# Add the unleveraged ETFs to the main dataframe\n",
    "merged_df = pd.concat([data, unleveraged_etfs], axis=1)\n",
    "merged_df"
   ]
  },
  {
   "cell_type": "markdown",
   "metadata": {},
   "source": [
    "We now get a subset of this dataframe with only the tickers that are relevant for this particular strategy, and we do a sanity check to make sure there are no issues."
   ]
  },
  {
   "cell_type": "code",
   "execution_count": 4,
   "metadata": {},
   "outputs": [
    {
     "data": {
      "text/html": [
       "<div>\n",
       "<style scoped>\n",
       "    .dataframe tbody tr th:only-of-type {\n",
       "        vertical-align: middle;\n",
       "    }\n",
       "\n",
       "    .dataframe tbody tr th {\n",
       "        vertical-align: top;\n",
       "    }\n",
       "\n",
       "    .dataframe thead th {\n",
       "        text-align: right;\n",
       "    }\n",
       "</style>\n",
       "<table border=\"1\" class=\"dataframe\">\n",
       "  <thead>\n",
       "    <tr style=\"text-align: right;\">\n",
       "      <th></th>\n",
       "      <th>SPY</th>\n",
       "      <th>TQQQ</th>\n",
       "      <th>SPXL</th>\n",
       "      <th>UVXY</th>\n",
       "      <th>SQQQ</th>\n",
       "      <th>TLT</th>\n",
       "      <th>QQQ</th>\n",
       "    </tr>\n",
       "    <tr>\n",
       "      <th>Date</th>\n",
       "      <th></th>\n",
       "      <th></th>\n",
       "      <th></th>\n",
       "      <th></th>\n",
       "      <th></th>\n",
       "      <th></th>\n",
       "      <th></th>\n",
       "    </tr>\n",
       "  </thead>\n",
       "  <tbody>\n",
       "    <tr>\n",
       "      <th>1986-05-19</th>\n",
       "      <td>NaN</td>\n",
       "      <td>NaN</td>\n",
       "      <td>NaN</td>\n",
       "      <td>NaN</td>\n",
       "      <td>NaN</td>\n",
       "      <td>10.60539</td>\n",
       "      <td>NaN</td>\n",
       "    </tr>\n",
       "    <tr>\n",
       "      <th>1986-05-20</th>\n",
       "      <td>NaN</td>\n",
       "      <td>NaN</td>\n",
       "      <td>NaN</td>\n",
       "      <td>NaN</td>\n",
       "      <td>NaN</td>\n",
       "      <td>10.58417</td>\n",
       "      <td>NaN</td>\n",
       "    </tr>\n",
       "    <tr>\n",
       "      <th>1986-05-21</th>\n",
       "      <td>NaN</td>\n",
       "      <td>NaN</td>\n",
       "      <td>NaN</td>\n",
       "      <td>NaN</td>\n",
       "      <td>NaN</td>\n",
       "      <td>10.69021</td>\n",
       "      <td>NaN</td>\n",
       "    </tr>\n",
       "    <tr>\n",
       "      <th>1986-05-22</th>\n",
       "      <td>NaN</td>\n",
       "      <td>NaN</td>\n",
       "      <td>NaN</td>\n",
       "      <td>NaN</td>\n",
       "      <td>NaN</td>\n",
       "      <td>10.66902</td>\n",
       "      <td>NaN</td>\n",
       "    </tr>\n",
       "    <tr>\n",
       "      <th>1986-05-23</th>\n",
       "      <td>NaN</td>\n",
       "      <td>NaN</td>\n",
       "      <td>NaN</td>\n",
       "      <td>NaN</td>\n",
       "      <td>NaN</td>\n",
       "      <td>10.69021</td>\n",
       "      <td>NaN</td>\n",
       "    </tr>\n",
       "    <tr>\n",
       "      <th>...</th>\n",
       "      <td>...</td>\n",
       "      <td>...</td>\n",
       "      <td>...</td>\n",
       "      <td>...</td>\n",
       "      <td>...</td>\n",
       "      <td>...</td>\n",
       "      <td>...</td>\n",
       "    </tr>\n",
       "    <tr>\n",
       "      <th>2022-10-12</th>\n",
       "      <td>356.559998</td>\n",
       "      <td>18.10</td>\n",
       "      <td>52.77</td>\n",
       "      <td>13.25000</td>\n",
       "      <td>63.35</td>\n",
       "      <td>100.35000</td>\n",
       "      <td>262.660004</td>\n",
       "    </tr>\n",
       "    <tr>\n",
       "      <th>2022-10-13</th>\n",
       "      <td>365.970001</td>\n",
       "      <td>19.31</td>\n",
       "      <td>56.85</td>\n",
       "      <td>12.69000</td>\n",
       "      <td>59.11</td>\n",
       "      <td>99.39000</td>\n",
       "      <td>268.820007</td>\n",
       "    </tr>\n",
       "    <tr>\n",
       "      <th>2022-10-14</th>\n",
       "      <td>357.630005</td>\n",
       "      <td>17.57</td>\n",
       "      <td>52.98</td>\n",
       "      <td>13.14000</td>\n",
       "      <td>64.38</td>\n",
       "      <td>98.57000</td>\n",
       "      <td>260.739990</td>\n",
       "    </tr>\n",
       "    <tr>\n",
       "      <th>2022-10-17</th>\n",
       "      <td>366.820007</td>\n",
       "      <td>19.30</td>\n",
       "      <td>57.00</td>\n",
       "      <td>12.61000</td>\n",
       "      <td>58.00</td>\n",
       "      <td>98.09000</td>\n",
       "      <td>269.350006</td>\n",
       "    </tr>\n",
       "    <tr>\n",
       "      <th>2022-10-18</th>\n",
       "      <td>371.130005</td>\n",
       "      <td>19.78</td>\n",
       "      <td>58.99</td>\n",
       "      <td>12.21000</td>\n",
       "      <td>56.59</td>\n",
       "      <td>98.32000</td>\n",
       "      <td>271.480011</td>\n",
       "    </tr>\n",
       "  </tbody>\n",
       "</table>\n",
       "<p>9180 rows × 7 columns</p>\n",
       "</div>"
      ],
      "text/plain": [
       "                   SPY   TQQQ   SPXL      UVXY   SQQQ        TLT         QQQ\n",
       "Date                                                                        \n",
       "1986-05-19         NaN    NaN    NaN       NaN    NaN   10.60539         NaN\n",
       "1986-05-20         NaN    NaN    NaN       NaN    NaN   10.58417         NaN\n",
       "1986-05-21         NaN    NaN    NaN       NaN    NaN   10.69021         NaN\n",
       "1986-05-22         NaN    NaN    NaN       NaN    NaN   10.66902         NaN\n",
       "1986-05-23         NaN    NaN    NaN       NaN    NaN   10.69021         NaN\n",
       "...                ...    ...    ...       ...    ...        ...         ...\n",
       "2022-10-12  356.559998  18.10  52.77  13.25000  63.35  100.35000  262.660004\n",
       "2022-10-13  365.970001  19.31  56.85  12.69000  59.11   99.39000  268.820007\n",
       "2022-10-14  357.630005  17.57  52.98  13.14000  64.38   98.57000  260.739990\n",
       "2022-10-17  366.820007  19.30  57.00  12.61000  58.00   98.09000  269.350006\n",
       "2022-10-18  371.130005  19.78  58.99  12.21000  56.59   98.32000  271.480011\n",
       "\n",
       "[9180 rows x 7 columns]"
      ]
     },
     "execution_count": 4,
     "metadata": {},
     "output_type": "execute_result"
    }
   ],
   "source": [
    "strategy_symbols = [\"SPY\", \"TQQQ\", \"SPXL\", \"UVXY\", \"SQQQ\", \"TLT\", \"QQQ\"]\n",
    "strategy_data = merged_df[strategy_symbols].copy()\n",
    "strategy_data"
   ]
  },
  {
   "cell_type": "code",
   "execution_count": 5,
   "metadata": {},
   "outputs": [
    {
     "name": "stdout",
     "output_type": "stream",
     "text": [
      "<class 'pandas.core.frame.DataFrame'>\n",
      "DatetimeIndex: 9180 entries, 1986-05-19 to 2022-10-18\n",
      "Data columns (total 7 columns):\n",
      " #   Column  Non-Null Count  Dtype  \n",
      "---  ------  --------------  -----  \n",
      " 0   SPY     7485 non-null   float64\n",
      " 1   TQQQ    5943 non-null   float64\n",
      " 2   SPXL    8769 non-null   float64\n",
      " 3   UVXY    8264 non-null   object \n",
      " 4   SQQQ    5943 non-null   float64\n",
      " 5   TLT     9180 non-null   float64\n",
      " 6   QQQ     5943 non-null   float64\n",
      "dtypes: float64(6), object(1)\n",
      "memory usage: 573.8+ KB\n"
     ]
    }
   ],
   "source": [
    "strategy_data.info()"
   ]
  },
  {
   "cell_type": "markdown",
   "metadata": {},
   "source": [
    "UVXY is currently of dtype object. Let's try to convert the column to float64, so we can use it in our calculations."
   ]
  },
  {
   "cell_type": "code",
   "execution_count": 6,
   "metadata": {},
   "outputs": [
    {
     "name": "stdout",
     "output_type": "stream",
     "text": [
      "<class 'pandas.core.series.Series'>\n",
      "DatetimeIndex: 9180 entries, 1986-05-19 to 2022-10-18\n",
      "Series name: UVXY\n",
      "Non-Null Count  Dtype  \n",
      "--------------  -----  \n",
      "8264 non-null   float64\n",
      "dtypes: float64(1)\n",
      "memory usage: 143.4 KB\n"
     ]
    }
   ],
   "source": [
    "strategy_data[\"UVXY\"] = strategy_data[\"UVXY\"].astype(\"float64\")\n",
    "strategy_data[\"UVXY\"].info()"
   ]
  },
  {
   "cell_type": "markdown",
   "metadata": {},
   "source": [
    "We now create the signals columns we need, using built-in pandas methods or `pandas-ta`."
   ]
  },
  {
   "cell_type": "code",
   "execution_count": 7,
   "metadata": {},
   "outputs": [],
   "source": [
    "# Signals\n",
    "strategy_data[\"SPY_MA200\"] = ta.sma(strategy_data[\"SPY\"], length=200)\n",
    "strategy_data[\"TQQQ_RSI10\"] = ta.rsi(strategy_data[\"TQQQ\"], length=10)\n",
    "strategy_data[\"SPXL_RSI10\"] = ta.rsi(strategy_data[\"SPXL\"], length=10)\n",
    "strategy_data[\"SPY_RSI10\"] = ta.rsi(strategy_data[\"SPY\"], length=10)\n",
    "strategy_data[\"QQQ_RSI10\"] = ta.rsi(strategy_data[\"QQQ\"], length=10)\n",
    "strategy_data[\"UVXY_RSI10\"] = ta.rsi(strategy_data[\"UVXY\"], length=10)\n",
    "strategy_data[\"TQQQ_MA20\"] = ta.sma(strategy_data[\"TQQQ\"], length=20)\n",
    "strategy_data[\"SQQQ_RSI10\"] = ta.rsi(strategy_data[\"SQQQ\"], length=10)\n",
    "strategy_data[\"TLT_RSI10\"] = ta.rsi(strategy_data[\"TLT\"], length=10)\n",
    "strategy_data[\"QQQ_5dgain\"] = strategy_data[\"QQQ\"].pct_change(5) * 100\n",
    "strategy_data[\"TQQQ_1dgain\"] = strategy_data[\"TQQQ\"].pct_change(1) * 100\n",
    "strategy_data[\"TQQQ_10dSTDreturn\"] = strategy_data[\"TQQQ_1dgain\"].rolling(10).std()"
   ]
  },
  {
   "cell_type": "code",
   "execution_count": 8,
   "metadata": {},
   "outputs": [],
   "source": [
    "# Drop missing values so we start the backtest from the first day all signals and prices are available\n",
    "strategy_data.dropna(inplace=True)"
   ]
  },
  {
   "cell_type": "code",
   "execution_count": 9,
   "metadata": {},
   "outputs": [],
   "source": [
    "# Add \"BUY\" column in first position\n",
    "strategy_data.insert(0, \"BUY\", pd.NA) # pd.NA is the new pandas native version of np.nan"
   ]
  },
  {
   "cell_type": "code",
   "execution_count": 10,
   "metadata": {},
   "outputs": [
    {
     "data": {
      "text/html": [
       "<div>\n",
       "<style scoped>\n",
       "    .dataframe tbody tr th:only-of-type {\n",
       "        vertical-align: middle;\n",
       "    }\n",
       "\n",
       "    .dataframe tbody tr th {\n",
       "        vertical-align: top;\n",
       "    }\n",
       "\n",
       "    .dataframe thead th {\n",
       "        text-align: right;\n",
       "    }\n",
       "</style>\n",
       "<table border=\"1\" class=\"dataframe\">\n",
       "  <thead>\n",
       "    <tr style=\"text-align: right;\">\n",
       "      <th></th>\n",
       "      <th>BUY</th>\n",
       "      <th>SPY</th>\n",
       "      <th>TQQQ</th>\n",
       "      <th>SPXL</th>\n",
       "      <th>UVXY</th>\n",
       "      <th>SQQQ</th>\n",
       "      <th>TLT</th>\n",
       "      <th>QQQ</th>\n",
       "      <th>SPY_MA200</th>\n",
       "      <th>TQQQ_RSI10</th>\n",
       "      <th>SPXL_RSI10</th>\n",
       "      <th>SPY_RSI10</th>\n",
       "      <th>QQQ_RSI10</th>\n",
       "      <th>UVXY_RSI10</th>\n",
       "      <th>TQQQ_MA20</th>\n",
       "      <th>SQQQ_RSI10</th>\n",
       "      <th>TLT_RSI10</th>\n",
       "      <th>QQQ_5dgain</th>\n",
       "      <th>TQQQ_1dgain</th>\n",
       "      <th>TQQQ_10dSTDreturn</th>\n",
       "    </tr>\n",
       "    <tr>\n",
       "      <th>Date</th>\n",
       "      <th></th>\n",
       "      <th></th>\n",
       "      <th></th>\n",
       "      <th></th>\n",
       "      <th></th>\n",
       "      <th></th>\n",
       "      <th></th>\n",
       "      <th></th>\n",
       "      <th></th>\n",
       "      <th></th>\n",
       "      <th></th>\n",
       "      <th></th>\n",
       "      <th></th>\n",
       "      <th></th>\n",
       "      <th></th>\n",
       "      <th></th>\n",
       "      <th></th>\n",
       "      <th></th>\n",
       "      <th></th>\n",
       "      <th></th>\n",
       "    </tr>\n",
       "  </thead>\n",
       "  <tbody>\n",
       "    <tr>\n",
       "      <th>1999-04-07</th>\n",
       "      <td>NaN</td>\n",
       "      <td>86.938614</td>\n",
       "      <td>81.72095</td>\n",
       "      <td>45.31803</td>\n",
       "      <td>2.879196e+20</td>\n",
       "      <td>2.102258e+08</td>\n",
       "      <td>33.35910</td>\n",
       "      <td>47.432095</td>\n",
       "      <td>75.215920</td>\n",
       "      <td>63.071977</td>\n",
       "      <td>62.293455</td>\n",
       "      <td>63.046436</td>\n",
       "      <td>64.348933</td>\n",
       "      <td>31.463376</td>\n",
       "      <td>71.300601</td>\n",
       "      <td>34.759583</td>\n",
       "      <td>61.585289</td>\n",
       "      <td>3.345091</td>\n",
       "      <td>-3.161540</td>\n",
       "      <td>6.725346</td>\n",
       "    </tr>\n",
       "    <tr>\n",
       "      <th>1999-04-08</th>\n",
       "      <td>NaN</td>\n",
       "      <td>88.040398</td>\n",
       "      <td>83.63468</td>\n",
       "      <td>47.05327</td>\n",
       "      <td>2.817470e+20</td>\n",
       "      <td>2.053532e+08</td>\n",
       "      <td>33.66911</td>\n",
       "      <td>47.809189</td>\n",
       "      <td>75.298415</td>\n",
       "      <td>65.188269</td>\n",
       "      <td>67.303069</td>\n",
       "      <td>67.243496</td>\n",
       "      <td>66.252711</td>\n",
       "      <td>30.133641</td>\n",
       "      <td>72.093586</td>\n",
       "      <td>33.332605</td>\n",
       "      <td>68.707198</td>\n",
       "      <td>5.717731</td>\n",
       "      <td>2.341786</td>\n",
       "      <td>6.329253</td>\n",
       "    </tr>\n",
       "    <tr>\n",
       "      <th>1999-04-09</th>\n",
       "      <td>NaN</td>\n",
       "      <td>88.060791</td>\n",
       "      <td>85.15391</td>\n",
       "      <td>47.49072</td>\n",
       "      <td>2.644424e+20</td>\n",
       "      <td>2.016712e+08</td>\n",
       "      <td>33.57613</td>\n",
       "      <td>48.105457</td>\n",
       "      <td>75.376766</td>\n",
       "      <td>66.863324</td>\n",
       "      <td>68.476215</td>\n",
       "      <td>67.319831</td>\n",
       "      <td>67.755812</td>\n",
       "      <td>26.628145</td>\n",
       "      <td>72.914247</td>\n",
       "      <td>32.221921</td>\n",
       "      <td>64.709255</td>\n",
       "      <td>4.200715</td>\n",
       "      <td>1.816507</td>\n",
       "      <td>5.661916</td>\n",
       "    </tr>\n",
       "    <tr>\n",
       "      <th>1999-04-12</th>\n",
       "      <td>NaN</td>\n",
       "      <td>88.999336</td>\n",
       "      <td>83.40080</td>\n",
       "      <td>48.55757</td>\n",
       "      <td>2.655143e+20</td>\n",
       "      <td>2.058710e+08</td>\n",
       "      <td>33.63814</td>\n",
       "      <td>47.782234</td>\n",
       "      <td>75.454959</td>\n",
       "      <td>62.977932</td>\n",
       "      <td>71.269533</td>\n",
       "      <td>70.799512</td>\n",
       "      <td>64.284982</td>\n",
       "      <td>27.210950</td>\n",
       "      <td>73.899929</td>\n",
       "      <td>34.968226</td>\n",
       "      <td>66.168040</td>\n",
       "      <td>-0.112616</td>\n",
       "      <td>-2.058755</td>\n",
       "      <td>5.549664</td>\n",
       "    </tr>\n",
       "    <tr>\n",
       "      <th>1999-04-13</th>\n",
       "      <td>NaN</td>\n",
       "      <td>88.428047</td>\n",
       "      <td>79.98025</td>\n",
       "      <td>47.59537</td>\n",
       "      <td>2.781925e+20</td>\n",
       "      <td>2.143630e+08</td>\n",
       "      <td>33.42109</td>\n",
       "      <td>47.135815</td>\n",
       "      <td>75.530901</td>\n",
       "      <td>55.931812</td>\n",
       "      <td>65.457097</td>\n",
       "      <td>66.043495</td>\n",
       "      <td>57.715261</td>\n",
       "      <td>34.090945</td>\n",
       "      <td>74.441727</td>\n",
       "      <td>40.394174</td>\n",
       "      <td>57.003922</td>\n",
       "      <td>-1.657713</td>\n",
       "      <td>-4.101340</td>\n",
       "      <td>4.904016</td>\n",
       "    </tr>\n",
       "    <tr>\n",
       "      <th>...</th>\n",
       "      <td>...</td>\n",
       "      <td>...</td>\n",
       "      <td>...</td>\n",
       "      <td>...</td>\n",
       "      <td>...</td>\n",
       "      <td>...</td>\n",
       "      <td>...</td>\n",
       "      <td>...</td>\n",
       "      <td>...</td>\n",
       "      <td>...</td>\n",
       "      <td>...</td>\n",
       "      <td>...</td>\n",
       "      <td>...</td>\n",
       "      <td>...</td>\n",
       "      <td>...</td>\n",
       "      <td>...</td>\n",
       "      <td>...</td>\n",
       "      <td>...</td>\n",
       "      <td>...</td>\n",
       "      <td>...</td>\n",
       "    </tr>\n",
       "    <tr>\n",
       "      <th>2022-10-12</th>\n",
       "      <td>NaN</td>\n",
       "      <td>356.559998</td>\n",
       "      <td>18.10000</td>\n",
       "      <td>52.77000</td>\n",
       "      <td>1.325000e+01</td>\n",
       "      <td>6.335000e+01</td>\n",
       "      <td>100.35000</td>\n",
       "      <td>262.660004</td>\n",
       "      <td>413.231901</td>\n",
       "      <td>29.380442</td>\n",
       "      <td>32.266999</td>\n",
       "      <td>33.369398</td>\n",
       "      <td>30.256253</td>\n",
       "      <td>65.041294</td>\n",
       "      <td>21.645000</td>\n",
       "      <td>68.684792</td>\n",
       "      <td>34.975614</td>\n",
       "      <td>-6.851552</td>\n",
       "      <td>-0.220507</td>\n",
       "      <td>6.327154</td>\n",
       "    </tr>\n",
       "    <tr>\n",
       "      <th>2022-10-13</th>\n",
       "      <td>NaN</td>\n",
       "      <td>365.970001</td>\n",
       "      <td>19.31000</td>\n",
       "      <td>56.85000</td>\n",
       "      <td>1.269000e+01</td>\n",
       "      <td>5.911000e+01</td>\n",
       "      <td>99.39000</td>\n",
       "      <td>268.820007</td>\n",
       "      <td>412.704691</td>\n",
       "      <td>37.938121</td>\n",
       "      <td>43.105232</td>\n",
       "      <td>45.241914</td>\n",
       "      <td>40.328453</td>\n",
       "      <td>57.202852</td>\n",
       "      <td>21.356000</td>\n",
       "      <td>57.165998</td>\n",
       "      <td>31.833812</td>\n",
       "      <td>-3.910495</td>\n",
       "      <td>6.685083</td>\n",
       "      <td>6.389549</td>\n",
       "    </tr>\n",
       "    <tr>\n",
       "      <th>2022-10-14</th>\n",
       "      <td>NaN</td>\n",
       "      <td>357.630005</td>\n",
       "      <td>17.57000</td>\n",
       "      <td>52.98000</td>\n",
       "      <td>1.314000e+01</td>\n",
       "      <td>6.438000e+01</td>\n",
       "      <td>98.57000</td>\n",
       "      <td>260.739990</td>\n",
       "      <td>412.132767</td>\n",
       "      <td>31.784061</td>\n",
       "      <td>36.884882</td>\n",
       "      <td>38.488365</td>\n",
       "      <td>33.316123</td>\n",
       "      <td>61.360555</td>\n",
       "      <td>21.004500</td>\n",
       "      <td>65.221002</td>\n",
       "      <td>29.333059</td>\n",
       "      <td>-3.106658</td>\n",
       "      <td>-9.010875</td>\n",
       "      <td>6.806726</td>\n",
       "    </tr>\n",
       "    <tr>\n",
       "      <th>2022-10-17</th>\n",
       "      <td>NaN</td>\n",
       "      <td>366.820007</td>\n",
       "      <td>19.30000</td>\n",
       "      <td>57.00000</td>\n",
       "      <td>1.261000e+01</td>\n",
       "      <td>5.800000e+01</td>\n",
       "      <td>98.09000</td>\n",
       "      <td>269.350006</td>\n",
       "      <td>411.613316</td>\n",
       "      <td>42.150708</td>\n",
       "      <td>45.896145</td>\n",
       "      <td>47.993457</td>\n",
       "      <td>44.700758</td>\n",
       "      <td>54.439482</td>\n",
       "      <td>20.710000</td>\n",
       "      <td>52.053713</td>\n",
       "      <td>27.907179</td>\n",
       "      <td>1.103563</td>\n",
       "      <td>9.846329</td>\n",
       "      <td>7.220773</td>\n",
       "    </tr>\n",
       "    <tr>\n",
       "      <th>2022-10-18</th>\n",
       "      <td>NaN</td>\n",
       "      <td>371.130005</td>\n",
       "      <td>19.78000</td>\n",
       "      <td>58.99000</td>\n",
       "      <td>1.221000e+01</td>\n",
       "      <td>5.659000e+01</td>\n",
       "      <td>98.32000</td>\n",
       "      <td>271.480011</td>\n",
       "      <td>411.121348</td>\n",
       "      <td>44.739629</td>\n",
       "      <td>49.835568</td>\n",
       "      <td>51.869085</td>\n",
       "      <td>47.179520</td>\n",
       "      <td>49.735237</td>\n",
       "      <td>20.469500</td>\n",
       "      <td>49.595027</td>\n",
       "      <td>29.725895</td>\n",
       "      <td>3.322554</td>\n",
       "      <td>2.487047</td>\n",
       "      <td>6.484238</td>\n",
       "    </tr>\n",
       "  </tbody>\n",
       "</table>\n",
       "<p>5924 rows × 20 columns</p>\n",
       "</div>"
      ],
      "text/plain": [
       "            BUY         SPY      TQQQ      SPXL          UVXY          SQQQ  \\\n",
       "Date                                                                          \n",
       "1999-04-07  NaN   86.938614  81.72095  45.31803  2.879196e+20  2.102258e+08   \n",
       "1999-04-08  NaN   88.040398  83.63468  47.05327  2.817470e+20  2.053532e+08   \n",
       "1999-04-09  NaN   88.060791  85.15391  47.49072  2.644424e+20  2.016712e+08   \n",
       "1999-04-12  NaN   88.999336  83.40080  48.55757  2.655143e+20  2.058710e+08   \n",
       "1999-04-13  NaN   88.428047  79.98025  47.59537  2.781925e+20  2.143630e+08   \n",
       "...         ...         ...       ...       ...           ...           ...   \n",
       "2022-10-12  NaN  356.559998  18.10000  52.77000  1.325000e+01  6.335000e+01   \n",
       "2022-10-13  NaN  365.970001  19.31000  56.85000  1.269000e+01  5.911000e+01   \n",
       "2022-10-14  NaN  357.630005  17.57000  52.98000  1.314000e+01  6.438000e+01   \n",
       "2022-10-17  NaN  366.820007  19.30000  57.00000  1.261000e+01  5.800000e+01   \n",
       "2022-10-18  NaN  371.130005  19.78000  58.99000  1.221000e+01  5.659000e+01   \n",
       "\n",
       "                  TLT         QQQ   SPY_MA200  TQQQ_RSI10  SPXL_RSI10  \\\n",
       "Date                                                                    \n",
       "1999-04-07   33.35910   47.432095   75.215920   63.071977   62.293455   \n",
       "1999-04-08   33.66911   47.809189   75.298415   65.188269   67.303069   \n",
       "1999-04-09   33.57613   48.105457   75.376766   66.863324   68.476215   \n",
       "1999-04-12   33.63814   47.782234   75.454959   62.977932   71.269533   \n",
       "1999-04-13   33.42109   47.135815   75.530901   55.931812   65.457097   \n",
       "...               ...         ...         ...         ...         ...   \n",
       "2022-10-12  100.35000  262.660004  413.231901   29.380442   32.266999   \n",
       "2022-10-13   99.39000  268.820007  412.704691   37.938121   43.105232   \n",
       "2022-10-14   98.57000  260.739990  412.132767   31.784061   36.884882   \n",
       "2022-10-17   98.09000  269.350006  411.613316   42.150708   45.896145   \n",
       "2022-10-18   98.32000  271.480011  411.121348   44.739629   49.835568   \n",
       "\n",
       "            SPY_RSI10  QQQ_RSI10  UVXY_RSI10  TQQQ_MA20  SQQQ_RSI10  \\\n",
       "Date                                                                  \n",
       "1999-04-07  63.046436  64.348933   31.463376  71.300601   34.759583   \n",
       "1999-04-08  67.243496  66.252711   30.133641  72.093586   33.332605   \n",
       "1999-04-09  67.319831  67.755812   26.628145  72.914247   32.221921   \n",
       "1999-04-12  70.799512  64.284982   27.210950  73.899929   34.968226   \n",
       "1999-04-13  66.043495  57.715261   34.090945  74.441727   40.394174   \n",
       "...               ...        ...         ...        ...         ...   \n",
       "2022-10-12  33.369398  30.256253   65.041294  21.645000   68.684792   \n",
       "2022-10-13  45.241914  40.328453   57.202852  21.356000   57.165998   \n",
       "2022-10-14  38.488365  33.316123   61.360555  21.004500   65.221002   \n",
       "2022-10-17  47.993457  44.700758   54.439482  20.710000   52.053713   \n",
       "2022-10-18  51.869085  47.179520   49.735237  20.469500   49.595027   \n",
       "\n",
       "            TLT_RSI10  QQQ_5dgain  TQQQ_1dgain  TQQQ_10dSTDreturn  \n",
       "Date                                                               \n",
       "1999-04-07  61.585289    3.345091    -3.161540           6.725346  \n",
       "1999-04-08  68.707198    5.717731     2.341786           6.329253  \n",
       "1999-04-09  64.709255    4.200715     1.816507           5.661916  \n",
       "1999-04-12  66.168040   -0.112616    -2.058755           5.549664  \n",
       "1999-04-13  57.003922   -1.657713    -4.101340           4.904016  \n",
       "...               ...         ...          ...                ...  \n",
       "2022-10-12  34.975614   -6.851552    -0.220507           6.327154  \n",
       "2022-10-13  31.833812   -3.910495     6.685083           6.389549  \n",
       "2022-10-14  29.333059   -3.106658    -9.010875           6.806726  \n",
       "2022-10-17  27.907179    1.103563     9.846329           7.220773  \n",
       "2022-10-18  29.725895    3.322554     2.487047           6.484238  \n",
       "\n",
       "[5924 rows x 20 columns]"
      ]
     },
     "execution_count": 10,
     "metadata": {},
     "output_type": "execute_result"
    }
   ],
   "source": [
    "strategy_data"
   ]
  },
  {
   "cell_type": "markdown",
   "metadata": {},
   "source": [
    "### Generate asset allocation history\n",
    "We create an empty dataframe that will be populated with our asset allocation history as we iterate over the strategy_data dataframe and calculate the strategy signal for each row (day). This allocation dataframe will later be passed to vectorbt.pro for backtesting."
   ]
  },
  {
   "cell_type": "code",
   "execution_count": 11,
   "metadata": {},
   "outputs": [
    {
     "data": {
      "text/html": [
       "<div>\n",
       "<style scoped>\n",
       "    .dataframe tbody tr th:only-of-type {\n",
       "        vertical-align: middle;\n",
       "    }\n",
       "\n",
       "    .dataframe tbody tr th {\n",
       "        vertical-align: top;\n",
       "    }\n",
       "\n",
       "    .dataframe thead th {\n",
       "        text-align: right;\n",
       "    }\n",
       "</style>\n",
       "<table border=\"1\" class=\"dataframe\">\n",
       "  <thead>\n",
       "    <tr style=\"text-align: right;\">\n",
       "      <th></th>\n",
       "      <th>TQQQ</th>\n",
       "      <th>SQQQ</th>\n",
       "      <th>UVXY</th>\n",
       "      <th>TLT</th>\n",
       "    </tr>\n",
       "    <tr>\n",
       "      <th>Date</th>\n",
       "      <th></th>\n",
       "      <th></th>\n",
       "      <th></th>\n",
       "      <th></th>\n",
       "    </tr>\n",
       "  </thead>\n",
       "  <tbody>\n",
       "    <tr>\n",
       "      <th>1999-04-07</th>\n",
       "      <td>NaN</td>\n",
       "      <td>NaN</td>\n",
       "      <td>NaN</td>\n",
       "      <td>NaN</td>\n",
       "    </tr>\n",
       "    <tr>\n",
       "      <th>1999-04-08</th>\n",
       "      <td>NaN</td>\n",
       "      <td>NaN</td>\n",
       "      <td>NaN</td>\n",
       "      <td>NaN</td>\n",
       "    </tr>\n",
       "    <tr>\n",
       "      <th>1999-04-09</th>\n",
       "      <td>NaN</td>\n",
       "      <td>NaN</td>\n",
       "      <td>NaN</td>\n",
       "      <td>NaN</td>\n",
       "    </tr>\n",
       "    <tr>\n",
       "      <th>1999-04-12</th>\n",
       "      <td>NaN</td>\n",
       "      <td>NaN</td>\n",
       "      <td>NaN</td>\n",
       "      <td>NaN</td>\n",
       "    </tr>\n",
       "    <tr>\n",
       "      <th>1999-04-13</th>\n",
       "      <td>NaN</td>\n",
       "      <td>NaN</td>\n",
       "      <td>NaN</td>\n",
       "      <td>NaN</td>\n",
       "    </tr>\n",
       "    <tr>\n",
       "      <th>...</th>\n",
       "      <td>...</td>\n",
       "      <td>...</td>\n",
       "      <td>...</td>\n",
       "      <td>...</td>\n",
       "    </tr>\n",
       "    <tr>\n",
       "      <th>2022-10-12</th>\n",
       "      <td>NaN</td>\n",
       "      <td>NaN</td>\n",
       "      <td>NaN</td>\n",
       "      <td>NaN</td>\n",
       "    </tr>\n",
       "    <tr>\n",
       "      <th>2022-10-13</th>\n",
       "      <td>NaN</td>\n",
       "      <td>NaN</td>\n",
       "      <td>NaN</td>\n",
       "      <td>NaN</td>\n",
       "    </tr>\n",
       "    <tr>\n",
       "      <th>2022-10-14</th>\n",
       "      <td>NaN</td>\n",
       "      <td>NaN</td>\n",
       "      <td>NaN</td>\n",
       "      <td>NaN</td>\n",
       "    </tr>\n",
       "    <tr>\n",
       "      <th>2022-10-17</th>\n",
       "      <td>NaN</td>\n",
       "      <td>NaN</td>\n",
       "      <td>NaN</td>\n",
       "      <td>NaN</td>\n",
       "    </tr>\n",
       "    <tr>\n",
       "      <th>2022-10-18</th>\n",
       "      <td>NaN</td>\n",
       "      <td>NaN</td>\n",
       "      <td>NaN</td>\n",
       "      <td>NaN</td>\n",
       "    </tr>\n",
       "  </tbody>\n",
       "</table>\n",
       "<p>5924 rows × 4 columns</p>\n",
       "</div>"
      ],
      "text/plain": [
       "           TQQQ SQQQ UVXY  TLT\n",
       "Date                          \n",
       "1999-04-07  NaN  NaN  NaN  NaN\n",
       "1999-04-08  NaN  NaN  NaN  NaN\n",
       "1999-04-09  NaN  NaN  NaN  NaN\n",
       "1999-04-12  NaN  NaN  NaN  NaN\n",
       "1999-04-13  NaN  NaN  NaN  NaN\n",
       "...         ...  ...  ...  ...\n",
       "2022-10-12  NaN  NaN  NaN  NaN\n",
       "2022-10-13  NaN  NaN  NaN  NaN\n",
       "2022-10-14  NaN  NaN  NaN  NaN\n",
       "2022-10-17  NaN  NaN  NaN  NaN\n",
       "2022-10-18  NaN  NaN  NaN  NaN\n",
       "\n",
       "[5924 rows x 4 columns]"
      ]
     },
     "execution_count": 11,
     "metadata": {},
     "output_type": "execute_result"
    }
   ],
   "source": [
    "strategy_allocations = pd.DataFrame(index=strategy_data.index, columns=[\"TQQQ\", \"SQQQ\", \"UVXY\", \"TLT\"])\n",
    "strategy_allocations"
   ]
  },
  {
   "cell_type": "markdown",
   "metadata": {},
   "source": [
    "We now write our strategy logic and iterate over each row of the dataframe, finding the asset allocations for each row and putting them in the strategy_allocations dataframe (1 = 100% allocation, 0.5 = 50% etc.)"
   ]
  },
  {
   "cell_type": "code",
   "execution_count": 12,
   "metadata": {},
   "outputs": [],
   "source": [
    "# Strategy logic \n",
    "\n",
    "for row in strategy_data.index:\n",
    "    if strategy_data.at[row, \"SPY\"] > strategy_data.at[row, \"SPY_MA200\"]: # using .at when workining with single values is more efficient than .loc\n",
    "        if strategy_data.at[row, \"TQQQ_RSI10\"] > 79:\n",
    "            strategy_allocations.at[row, \"UVXY\"] = 1\n",
    "        else:\n",
    "            if strategy_data.at[row, \"SPXL_RSI10\"] > 80:\n",
    "                strategy_allocations.at[row, \"UVXY\"] = 1\n",
    "            else:\n",
    "                if strategy_data.at[row, \"QQQ_5dgain\"] < -6:\n",
    "                    if strategy_data.at[row, \"TQQQ_1dgain\"] > 5:\n",
    "                        strategy_allocations.at[row, \"SQQQ\"] = 1\n",
    "                    else:\n",
    "                        if strategy_data.at[row, \"TQQQ_RSI10\"] > 31:\n",
    "                            strategy_allocations.at[row, \"SQQQ\"] = 1\n",
    "                        else:\n",
    "                            strategy_allocations.at[row, \"TQQQ\"] = 1\n",
    "                else:\n",
    "                    if strategy_data.at[row, \"QQQ_RSI10\"] > 80:\n",
    "                        strategy_allocations.at[row, \"SQQQ\"] = 1\n",
    "                    else:\n",
    "                        if strategy_data.at[row, \"TQQQ_10dSTDreturn\"] > 5:\n",
    "                            strategy_allocations.at[row, \"TLT\"] = 1\n",
    "                        else:\n",
    "                            strategy_allocations.at[row, \"TQQQ\"] = 1\n",
    "    else:\n",
    "        if strategy_data.at[row, \"TQQQ_RSI10\"] < 31:\n",
    "            strategy_allocations.at[row, \"TQQQ\"] = 1\n",
    "        else:\n",
    "            if strategy_data.at[row, \"SPY_RSI10\"] < 30:\n",
    "                strategy_allocations.at[row, \"TQQQ\"] = 1\n",
    "            else:\n",
    "                if strategy_data.at[row, \"UVXY_RSI10\"] > 74:\n",
    "                    if strategy_data.at[row, \"UVXY_RSI10\"] > 84:\n",
    "                        if (\n",
    "                            strategy_data.at[row, \"SQQQ_RSI10\"]\n",
    "                            > strategy_data.at[row, \"TLT_RSI10\"]\n",
    "                        ):\n",
    "                            strategy_allocations.at[row, \"SQQQ\"] = 1\n",
    "                        else:\n",
    "                            strategy_allocations.at[row, \"TLT\"] = 1\n",
    "                    else:\n",
    "                        strategy_allocations.at[row, \"UVXY\"] = 1\n",
    "                else:\n",
    "                    if strategy_data.at[row, \"TQQQ\"] > strategy_data.at[row, \"TQQQ_MA20\"]:\n",
    "                        if strategy_data.at[row, \"SQQQ_RSI10\"] < 31:\n",
    "                            strategy_allocations.at[row, \"SQQQ\"] = 1\n",
    "                        else:\n",
    "                            strategy_allocations.at[row, \"TQQQ\"] = 1\n",
    "                    else:\n",
    "                        if (\n",
    "                            strategy_data.at[row, \"SQQQ_RSI10\"]\n",
    "                            > strategy_data.at[row, \"TLT_RSI10\"]\n",
    "                        ):\n",
    "                            strategy_allocations.at[row, \"SQQQ\"] = 1\n",
    "                        else:\n",
    "                            strategy_allocations.at[row, \"TLT\"] = 1"
   ]
  },
  {
   "cell_type": "code",
   "execution_count": 13,
   "metadata": {},
   "outputs": [],
   "source": [
    "# Replace NaN values with 0\n",
    "strategy_allocations.fillna(0, inplace=True)"
   ]
  },
  {
   "cell_type": "code",
   "execution_count": 14,
   "metadata": {},
   "outputs": [
    {
     "data": {
      "text/html": [
       "<div>\n",
       "<style scoped>\n",
       "    .dataframe tbody tr th:only-of-type {\n",
       "        vertical-align: middle;\n",
       "    }\n",
       "\n",
       "    .dataframe tbody tr th {\n",
       "        vertical-align: top;\n",
       "    }\n",
       "\n",
       "    .dataframe thead th {\n",
       "        text-align: right;\n",
       "    }\n",
       "</style>\n",
       "<table border=\"1\" class=\"dataframe\">\n",
       "  <thead>\n",
       "    <tr style=\"text-align: right;\">\n",
       "      <th></th>\n",
       "      <th>TQQQ</th>\n",
       "      <th>SQQQ</th>\n",
       "      <th>UVXY</th>\n",
       "      <th>TLT</th>\n",
       "    </tr>\n",
       "    <tr>\n",
       "      <th>Date</th>\n",
       "      <th></th>\n",
       "      <th></th>\n",
       "      <th></th>\n",
       "      <th></th>\n",
       "    </tr>\n",
       "  </thead>\n",
       "  <tbody>\n",
       "    <tr>\n",
       "      <th>1999-04-07</th>\n",
       "      <td>0</td>\n",
       "      <td>0</td>\n",
       "      <td>0</td>\n",
       "      <td>1</td>\n",
       "    </tr>\n",
       "    <tr>\n",
       "      <th>1999-04-08</th>\n",
       "      <td>0</td>\n",
       "      <td>0</td>\n",
       "      <td>0</td>\n",
       "      <td>1</td>\n",
       "    </tr>\n",
       "    <tr>\n",
       "      <th>1999-04-09</th>\n",
       "      <td>0</td>\n",
       "      <td>0</td>\n",
       "      <td>0</td>\n",
       "      <td>1</td>\n",
       "    </tr>\n",
       "    <tr>\n",
       "      <th>1999-04-12</th>\n",
       "      <td>0</td>\n",
       "      <td>0</td>\n",
       "      <td>0</td>\n",
       "      <td>1</td>\n",
       "    </tr>\n",
       "    <tr>\n",
       "      <th>1999-04-13</th>\n",
       "      <td>1</td>\n",
       "      <td>0</td>\n",
       "      <td>0</td>\n",
       "      <td>0</td>\n",
       "    </tr>\n",
       "    <tr>\n",
       "      <th>...</th>\n",
       "      <td>...</td>\n",
       "      <td>...</td>\n",
       "      <td>...</td>\n",
       "      <td>...</td>\n",
       "    </tr>\n",
       "    <tr>\n",
       "      <th>2022-10-12</th>\n",
       "      <td>1</td>\n",
       "      <td>0</td>\n",
       "      <td>0</td>\n",
       "      <td>0</td>\n",
       "    </tr>\n",
       "    <tr>\n",
       "      <th>2022-10-13</th>\n",
       "      <td>0</td>\n",
       "      <td>1</td>\n",
       "      <td>0</td>\n",
       "      <td>0</td>\n",
       "    </tr>\n",
       "    <tr>\n",
       "      <th>2022-10-14</th>\n",
       "      <td>0</td>\n",
       "      <td>1</td>\n",
       "      <td>0</td>\n",
       "      <td>0</td>\n",
       "    </tr>\n",
       "    <tr>\n",
       "      <th>2022-10-17</th>\n",
       "      <td>0</td>\n",
       "      <td>1</td>\n",
       "      <td>0</td>\n",
       "      <td>0</td>\n",
       "    </tr>\n",
       "    <tr>\n",
       "      <th>2022-10-18</th>\n",
       "      <td>0</td>\n",
       "      <td>1</td>\n",
       "      <td>0</td>\n",
       "      <td>0</td>\n",
       "    </tr>\n",
       "  </tbody>\n",
       "</table>\n",
       "<p>5924 rows × 4 columns</p>\n",
       "</div>"
      ],
      "text/plain": [
       "            TQQQ  SQQQ  UVXY  TLT\n",
       "Date                             \n",
       "1999-04-07     0     0     0    1\n",
       "1999-04-08     0     0     0    1\n",
       "1999-04-09     0     0     0    1\n",
       "1999-04-12     0     0     0    1\n",
       "1999-04-13     1     0     0    0\n",
       "...          ...   ...   ...  ...\n",
       "2022-10-12     1     0     0    0\n",
       "2022-10-13     0     1     0    0\n",
       "2022-10-14     0     1     0    0\n",
       "2022-10-17     0     1     0    0\n",
       "2022-10-18     0     1     0    0\n",
       "\n",
       "[5924 rows x 4 columns]"
      ]
     },
     "execution_count": 14,
     "metadata": {},
     "output_type": "execute_result"
    }
   ],
   "source": [
    "strategy_allocations"
   ]
  },
  {
   "cell_type": "markdown",
   "metadata": {},
   "source": [
    "#### Saving the data to .csv"
   ]
  },
  {
   "cell_type": "code",
   "execution_count": 15,
   "metadata": {},
   "outputs": [],
   "source": [
    "# Save strategy_allocations to CSV for later use\n",
    "strategy_allocations.to_csv(\"./data/strategy_allocations.csv\")"
   ]
  },
  {
   "cell_type": "markdown",
   "metadata": {},
   "source": [
    "We also save a dataframe with the close prices of the instruments used in our strategy allocation. This will be needed for backtesting in vectorbt.pro."
   ]
  },
  {
   "cell_type": "code",
   "execution_count": 16,
   "metadata": {},
   "outputs": [],
   "source": [
    "strategy_prices = strategy_data[[\"TQQQ\", \"SQQQ\", \"UVXY\", \"TLT\"]]\n",
    "strategy_prices.to_csv(\"./data/strategy_prices.csv\")"
   ]
  },
  {
   "cell_type": "code",
   "execution_count": 17,
   "metadata": {},
   "outputs": [],
   "source": [
    "# Save the entire strategy data. This won't be needed later, but it's nice to have, just in case we want to reuse it somewhere.\n",
    "strategy_data.to_csv(\"./data/strategy_data.csv\")"
   ]
  },
  {
   "cell_type": "markdown",
   "metadata": {},
   "source": [
    "### Backtesting the strategy\n",
    "To run this backtest you'll need to have a valid subscription to [vectorbt.pro](https://vectorbt.pro)."
   ]
  },
  {
   "cell_type": "markdown",
   "metadata": {},
   "source": [
    "#### Loading data into vectorbt.pro and preparing it for the backtest"
   ]
  },
  {
   "cell_type": "markdown",
   "metadata": {},
   "source": [
    "First, we are loading the tickers close prices from the .csv file we saved earlier."
   ]
  },
  {
   "cell_type": "code",
   "execution_count": 18,
   "metadata": {},
   "outputs": [],
   "source": [
    "import vectorbtpro as vbt\n",
    "\n",
    "vbt_prices = vbt.CSVData.fetch(\"./data/strategy_prices.csv\", index_col=0, parse_dates=True) # same syntax you would use with pd.read_csv"
   ]
  },
  {
   "cell_type": "code",
   "execution_count": 19,
   "metadata": {},
   "outputs": [
    {
     "data": {
      "text/plain": [
       "{'strategy_prices':                                TQQQ          SQQQ          UVXY        TLT\n",
       " Date                                                                      \n",
       " 1999-04-07 00:00:00+00:00  81.72095  2.102258e+08  2.879196e+20   33.35910\n",
       " 1999-04-08 00:00:00+00:00  83.63468  2.053532e+08  2.817470e+20   33.66911\n",
       " 1999-04-09 00:00:00+00:00  85.15391  2.016712e+08  2.644424e+20   33.57613\n",
       " 1999-04-12 00:00:00+00:00  83.40080  2.058710e+08  2.655143e+20   33.63814\n",
       " 1999-04-13 00:00:00+00:00  79.98025  2.143630e+08  2.781925e+20   33.42109\n",
       " ...                             ...           ...           ...        ...\n",
       " 2022-10-12 00:00:00+00:00  18.10000  6.335000e+01  1.325000e+01  100.35000\n",
       " 2022-10-13 00:00:00+00:00  19.31000  5.911000e+01  1.269000e+01   99.39000\n",
       " 2022-10-14 00:00:00+00:00  17.57000  6.438000e+01  1.314000e+01   98.57000\n",
       " 2022-10-17 00:00:00+00:00  19.30000  5.800000e+01  1.261000e+01   98.09000\n",
       " 2022-10-18 00:00:00+00:00  19.78000  5.659000e+01  1.221000e+01   98.32000\n",
       " \n",
       " [5924 rows x 4 columns]}"
      ]
     },
     "execution_count": 19,
     "metadata": {},
     "output_type": "execute_result"
    }
   ],
   "source": [
    "vbt_prices.data"
   ]
  },
  {
   "cell_type": "markdown",
   "metadata": {},
   "source": [
    "We now generate a dataframe in a format compatible with vectorbt.pro, which will be populated with our allocation weights later."
   ]
  },
  {
   "cell_type": "code",
   "execution_count": 20,
   "metadata": {},
   "outputs": [
    {
     "name": "stdout",
     "output_type": "stream",
     "text": [
      "(5924, 4)\n",
      "(5924, 4)\n"
     ]
    }
   ],
   "source": [
    "symbol_wrapper = vbt_prices.get_symbol_wrapper(symbols=[\"TQQQ\", \"SQQQ\", \"UVXY\", \"TLT\"], freq='1d') # the order of symbols= should match the order of columns in strategy_allocations\n",
    "print(symbol_wrapper.shape)\n",
    "print(strategy_allocations.shape)"
   ]
  },
  {
   "cell_type": "markdown",
   "metadata": {},
   "source": [
    "The wrapper should have the same number of rows and columns as the data we have loaded. Now we can fill symbol_wrapper with data from our allocations dataframe."
   ]
  },
  {
   "cell_type": "code",
   "execution_count": 21,
   "metadata": {},
   "outputs": [
    {
     "data": {
      "text/html": [
       "<div>\n",
       "<style scoped>\n",
       "    .dataframe tbody tr th:only-of-type {\n",
       "        vertical-align: middle;\n",
       "    }\n",
       "\n",
       "    .dataframe tbody tr th {\n",
       "        vertical-align: top;\n",
       "    }\n",
       "\n",
       "    .dataframe thead th {\n",
       "        text-align: right;\n",
       "    }\n",
       "</style>\n",
       "<table border=\"1\" class=\"dataframe\">\n",
       "  <thead>\n",
       "    <tr style=\"text-align: right;\">\n",
       "      <th>symbol</th>\n",
       "      <th>TQQQ</th>\n",
       "      <th>SQQQ</th>\n",
       "      <th>UVXY</th>\n",
       "      <th>TLT</th>\n",
       "    </tr>\n",
       "    <tr>\n",
       "      <th>Date</th>\n",
       "      <th></th>\n",
       "      <th></th>\n",
       "      <th></th>\n",
       "      <th></th>\n",
       "    </tr>\n",
       "  </thead>\n",
       "  <tbody>\n",
       "    <tr>\n",
       "      <th>1999-04-07 00:00:00+00:00</th>\n",
       "      <td>0.0</td>\n",
       "      <td>0.0</td>\n",
       "      <td>0.0</td>\n",
       "      <td>1.0</td>\n",
       "    </tr>\n",
       "    <tr>\n",
       "      <th>1999-04-08 00:00:00+00:00</th>\n",
       "      <td>0.0</td>\n",
       "      <td>0.0</td>\n",
       "      <td>0.0</td>\n",
       "      <td>1.0</td>\n",
       "    </tr>\n",
       "    <tr>\n",
       "      <th>1999-04-09 00:00:00+00:00</th>\n",
       "      <td>0.0</td>\n",
       "      <td>0.0</td>\n",
       "      <td>0.0</td>\n",
       "      <td>1.0</td>\n",
       "    </tr>\n",
       "    <tr>\n",
       "      <th>1999-04-12 00:00:00+00:00</th>\n",
       "      <td>0.0</td>\n",
       "      <td>0.0</td>\n",
       "      <td>0.0</td>\n",
       "      <td>1.0</td>\n",
       "    </tr>\n",
       "    <tr>\n",
       "      <th>1999-04-13 00:00:00+00:00</th>\n",
       "      <td>1.0</td>\n",
       "      <td>0.0</td>\n",
       "      <td>0.0</td>\n",
       "      <td>0.0</td>\n",
       "    </tr>\n",
       "    <tr>\n",
       "      <th>...</th>\n",
       "      <td>...</td>\n",
       "      <td>...</td>\n",
       "      <td>...</td>\n",
       "      <td>...</td>\n",
       "    </tr>\n",
       "    <tr>\n",
       "      <th>2022-10-12 00:00:00+00:00</th>\n",
       "      <td>1.0</td>\n",
       "      <td>0.0</td>\n",
       "      <td>0.0</td>\n",
       "      <td>0.0</td>\n",
       "    </tr>\n",
       "    <tr>\n",
       "      <th>2022-10-13 00:00:00+00:00</th>\n",
       "      <td>0.0</td>\n",
       "      <td>1.0</td>\n",
       "      <td>0.0</td>\n",
       "      <td>0.0</td>\n",
       "    </tr>\n",
       "    <tr>\n",
       "      <th>2022-10-14 00:00:00+00:00</th>\n",
       "      <td>0.0</td>\n",
       "      <td>1.0</td>\n",
       "      <td>0.0</td>\n",
       "      <td>0.0</td>\n",
       "    </tr>\n",
       "    <tr>\n",
       "      <th>2022-10-17 00:00:00+00:00</th>\n",
       "      <td>0.0</td>\n",
       "      <td>1.0</td>\n",
       "      <td>0.0</td>\n",
       "      <td>0.0</td>\n",
       "    </tr>\n",
       "    <tr>\n",
       "      <th>2022-10-18 00:00:00+00:00</th>\n",
       "      <td>0.0</td>\n",
       "      <td>1.0</td>\n",
       "      <td>0.0</td>\n",
       "      <td>0.0</td>\n",
       "    </tr>\n",
       "  </tbody>\n",
       "</table>\n",
       "<p>5924 rows × 4 columns</p>\n",
       "</div>"
      ],
      "text/plain": [
       "symbol                     TQQQ  SQQQ  UVXY  TLT\n",
       "Date                                            \n",
       "1999-04-07 00:00:00+00:00   0.0   0.0   0.0  1.0\n",
       "1999-04-08 00:00:00+00:00   0.0   0.0   0.0  1.0\n",
       "1999-04-09 00:00:00+00:00   0.0   0.0   0.0  1.0\n",
       "1999-04-12 00:00:00+00:00   0.0   0.0   0.0  1.0\n",
       "1999-04-13 00:00:00+00:00   1.0   0.0   0.0  0.0\n",
       "...                         ...   ...   ...  ...\n",
       "2022-10-12 00:00:00+00:00   1.0   0.0   0.0  0.0\n",
       "2022-10-13 00:00:00+00:00   0.0   1.0   0.0  0.0\n",
       "2022-10-14 00:00:00+00:00   0.0   1.0   0.0  0.0\n",
       "2022-10-17 00:00:00+00:00   0.0   1.0   0.0  0.0\n",
       "2022-10-18 00:00:00+00:00   0.0   1.0   0.0  0.0\n",
       "\n",
       "[5924 rows x 4 columns]"
      ]
     },
     "execution_count": 21,
     "metadata": {},
     "output_type": "execute_result"
    }
   ],
   "source": [
    "tickers_allocations = vbt.PortfolioOptimizer.from_allocations(symbol_wrapper, strategy_allocations)\n",
    "allocations = tickers_allocations.allocations # can also type tickers_allocations.get_allocations()\n",
    "allocations"
   ]
  },
  {
   "cell_type": "markdown",
   "metadata": {},
   "source": [
    "Now we get a dataframe with the close prices from the data we have loaded."
   ]
  },
  {
   "cell_type": "code",
   "execution_count": 22,
   "metadata": {},
   "outputs": [
    {
     "data": {
      "text/html": [
       "<div>\n",
       "<style scoped>\n",
       "    .dataframe tbody tr th:only-of-type {\n",
       "        vertical-align: middle;\n",
       "    }\n",
       "\n",
       "    .dataframe tbody tr th {\n",
       "        vertical-align: top;\n",
       "    }\n",
       "\n",
       "    .dataframe thead th {\n",
       "        text-align: right;\n",
       "    }\n",
       "</style>\n",
       "<table border=\"1\" class=\"dataframe\">\n",
       "  <thead>\n",
       "    <tr style=\"text-align: right;\">\n",
       "      <th></th>\n",
       "      <th>TQQQ</th>\n",
       "      <th>SQQQ</th>\n",
       "      <th>UVXY</th>\n",
       "      <th>TLT</th>\n",
       "    </tr>\n",
       "    <tr>\n",
       "      <th>Date</th>\n",
       "      <th></th>\n",
       "      <th></th>\n",
       "      <th></th>\n",
       "      <th></th>\n",
       "    </tr>\n",
       "  </thead>\n",
       "  <tbody>\n",
       "    <tr>\n",
       "      <th>1999-04-07 00:00:00+00:00</th>\n",
       "      <td>81.72095</td>\n",
       "      <td>2.102258e+08</td>\n",
       "      <td>2.879196e+20</td>\n",
       "      <td>33.35910</td>\n",
       "    </tr>\n",
       "    <tr>\n",
       "      <th>1999-04-08 00:00:00+00:00</th>\n",
       "      <td>83.63468</td>\n",
       "      <td>2.053532e+08</td>\n",
       "      <td>2.817470e+20</td>\n",
       "      <td>33.66911</td>\n",
       "    </tr>\n",
       "    <tr>\n",
       "      <th>1999-04-09 00:00:00+00:00</th>\n",
       "      <td>85.15391</td>\n",
       "      <td>2.016712e+08</td>\n",
       "      <td>2.644424e+20</td>\n",
       "      <td>33.57613</td>\n",
       "    </tr>\n",
       "    <tr>\n",
       "      <th>1999-04-12 00:00:00+00:00</th>\n",
       "      <td>83.40080</td>\n",
       "      <td>2.058710e+08</td>\n",
       "      <td>2.655143e+20</td>\n",
       "      <td>33.63814</td>\n",
       "    </tr>\n",
       "    <tr>\n",
       "      <th>1999-04-13 00:00:00+00:00</th>\n",
       "      <td>79.98025</td>\n",
       "      <td>2.143630e+08</td>\n",
       "      <td>2.781925e+20</td>\n",
       "      <td>33.42109</td>\n",
       "    </tr>\n",
       "    <tr>\n",
       "      <th>...</th>\n",
       "      <td>...</td>\n",
       "      <td>...</td>\n",
       "      <td>...</td>\n",
       "      <td>...</td>\n",
       "    </tr>\n",
       "    <tr>\n",
       "      <th>2022-10-12 00:00:00+00:00</th>\n",
       "      <td>18.10000</td>\n",
       "      <td>6.335000e+01</td>\n",
       "      <td>1.325000e+01</td>\n",
       "      <td>100.35000</td>\n",
       "    </tr>\n",
       "    <tr>\n",
       "      <th>2022-10-13 00:00:00+00:00</th>\n",
       "      <td>19.31000</td>\n",
       "      <td>5.911000e+01</td>\n",
       "      <td>1.269000e+01</td>\n",
       "      <td>99.39000</td>\n",
       "    </tr>\n",
       "    <tr>\n",
       "      <th>2022-10-14 00:00:00+00:00</th>\n",
       "      <td>17.57000</td>\n",
       "      <td>6.438000e+01</td>\n",
       "      <td>1.314000e+01</td>\n",
       "      <td>98.57000</td>\n",
       "    </tr>\n",
       "    <tr>\n",
       "      <th>2022-10-17 00:00:00+00:00</th>\n",
       "      <td>19.30000</td>\n",
       "      <td>5.800000e+01</td>\n",
       "      <td>1.261000e+01</td>\n",
       "      <td>98.09000</td>\n",
       "    </tr>\n",
       "    <tr>\n",
       "      <th>2022-10-18 00:00:00+00:00</th>\n",
       "      <td>19.78000</td>\n",
       "      <td>5.659000e+01</td>\n",
       "      <td>1.221000e+01</td>\n",
       "      <td>98.32000</td>\n",
       "    </tr>\n",
       "  </tbody>\n",
       "</table>\n",
       "<p>5924 rows × 4 columns</p>\n",
       "</div>"
      ],
      "text/plain": [
       "                               TQQQ          SQQQ          UVXY        TLT\n",
       "Date                                                                      \n",
       "1999-04-07 00:00:00+00:00  81.72095  2.102258e+08  2.879196e+20   33.35910\n",
       "1999-04-08 00:00:00+00:00  83.63468  2.053532e+08  2.817470e+20   33.66911\n",
       "1999-04-09 00:00:00+00:00  85.15391  2.016712e+08  2.644424e+20   33.57613\n",
       "1999-04-12 00:00:00+00:00  83.40080  2.058710e+08  2.655143e+20   33.63814\n",
       "1999-04-13 00:00:00+00:00  79.98025  2.143630e+08  2.781925e+20   33.42109\n",
       "...                             ...           ...           ...        ...\n",
       "2022-10-12 00:00:00+00:00  18.10000  6.335000e+01  1.325000e+01  100.35000\n",
       "2022-10-13 00:00:00+00:00  19.31000  5.911000e+01  1.269000e+01   99.39000\n",
       "2022-10-14 00:00:00+00:00  17.57000  6.438000e+01  1.314000e+01   98.57000\n",
       "2022-10-17 00:00:00+00:00  19.30000  5.800000e+01  1.261000e+01   98.09000\n",
       "2022-10-18 00:00:00+00:00  19.78000  5.659000e+01  1.221000e+01   98.32000\n",
       "\n",
       "[5924 rows x 4 columns]"
      ]
     },
     "execution_count": 22,
     "metadata": {},
     "output_type": "execute_result"
    }
   ],
   "source": [
    "close_prices = vbt_prices.get()\n",
    "close_prices"
   ]
  },
  {
   "cell_type": "markdown",
   "metadata": {},
   "source": [
    "#### Running the backtest"
   ]
  },
  {
   "cell_type": "markdown",
   "metadata": {},
   "source": [
    "We now have everything that is needed to run our backtest: a dataframe with the close prices and one with the target allocations, both in a valid format recognized by vectorbt.pro . We can proceed with running the backtest and showing the results."
   ]
  },
  {
   "cell_type": "code",
   "execution_count": 23,
   "metadata": {},
   "outputs": [],
   "source": [
    "portfolio = vbt.Portfolio.from_orders(\n",
    "    \n",
    "    close=close_prices,\n",
    "    #bm_close=put_your_benchmark_close_prices_here,\n",
    "    size=allocations, # Here we pass the allocations we calculated earlier\n",
    "    size_type=\"targetpercent\",\n",
    "    group_by=True,  \n",
    "    cash_sharing=True,\n",
    "    call_seq=\"auto\",\n",
    "    freq='D', # needed to calculate annualized returns and some metrics like sharpe, sortino etc in portfolio.stats()\n",
    "    fees=0, # can specify a transaction fee\n",
    "    )"
   ]
  },
  {
   "cell_type": "markdown",
   "metadata": {},
   "source": [
    "Read the documentation of `Portfolio.from_orders()` for more info. It's possible compare the performance to a benchmark if you pass the desired benchmark strategy/ticker time series to #bm_close . Beware that the close_prices dataframe and the benchmark you are providing must have the same index for accurate comparisons. "
   ]
  },
  {
   "cell_type": "markdown",
   "metadata": {},
   "source": [
    "#### Analyze backtest performance"
   ]
  },
  {
   "cell_type": "markdown",
   "metadata": {},
   "source": [
    "In this notebook we will show just the tip of the iceberg of what's possible with vectorbt.pro . Read the [documentation](https://vectorbt.pro/getting-started/#private-sessions) for more ideas and metrics."
   ]
  },
  {
   "cell_type": "code",
   "execution_count": 24,
   "metadata": {},
   "outputs": [
    {
     "data": {
      "text/plain": [
       "Start                         1999-04-07 00:00:00+00:00\n",
       "End                           2022-10-18 00:00:00+00:00\n",
       "Period                               5924 days 00:00:00\n",
       "Start Value                                       100.0\n",
       "Min Value                                     45.944895\n",
       "Max Value                            49532199635.866318\n",
       "End Value                            43538788092.477097\n",
       "Total Return [%]                     43538787992.477097\n",
       "Benchmark Return [%]                          -20.26587\n",
       "Total Time Exposure [%]                       99.561107\n",
       "Max Gross Exposure [%]                            100.0\n",
       "Max Drawdown [%]                              73.491664\n",
       "Max Drawdown Duration                 875 days 00:00:00\n",
       "Total Orders                                       1910\n",
       "Total Fees Paid                                     0.0\n",
       "Total Trades                                        959\n",
       "Win Rate [%]                                  56.680585\n",
       "Best Trade [%]                                65.372054\n",
       "Worst Trade [%]                              -37.213453\n",
       "Avg Winning Trade [%]                          9.067937\n",
       "Avg Losing Trade [%]                          -5.788179\n",
       "Avg Winning Trade Duration    7 days 18:17:54.033149171\n",
       "Avg Losing Trade Duration     7 days 18:41:46.077348066\n",
       "Profit Factor                                  3.598681\n",
       "Expectancy                              47471405.655066\n",
       "Sharpe Ratio                                   1.813416\n",
       "Calmar Ratio                                   1.805824\n",
       "Omega Ratio                                    1.368747\n",
       "Sortino Ratio                                  3.026992\n",
       "Name: group, dtype: object"
      ]
     },
     "execution_count": 24,
     "metadata": {},
     "output_type": "execute_result"
    }
   ],
   "source": [
    "# This is the most basic overview of the portfolio metrics\n",
    "portfolio.stats()"
   ]
  },
  {
   "cell_type": "markdown",
   "metadata": {},
   "source": [
    "#### Returns"
   ]
  },
  {
   "cell_type": "markdown",
   "metadata": {},
   "source": [
    "We can go even further than that and do in-depth analysis of returns and other metrics."
   ]
  },
  {
   "cell_type": "code",
   "execution_count": 25,
   "metadata": {},
   "outputs": [
    {
     "data": {
      "text/plain": [
       "Start                        1999-04-07 00:00:00+00:00\n",
       "End                          2022-10-18 00:00:00+00:00\n",
       "Period                              5924 days 00:00:00\n",
       "Total Return [%]                    43538787992.477104\n",
       "Benchmark Return [%]                         -20.26587\n",
       "Annualized Return [%]                       132.712975\n",
       "Annualized Volatility [%]                    88.617529\n",
       "Max Drawdown [%]                             73.491664\n",
       "Max Drawdown Duration                875 days 00:00:00\n",
       "Sharpe Ratio                                  1.813416\n",
       "Calmar Ratio                                  1.805824\n",
       "Omega Ratio                                   1.368747\n",
       "Sortino Ratio                                 3.026992\n",
       "Skew                                          1.516343\n",
       "Kurtosis                                     16.768799\n",
       "Tail Ratio                                    1.117592\n",
       "Common Sense Ratio                            2.600781\n",
       "Value at Risk                                 -0.06385\n",
       "Alpha                                         3.985386\n",
       "Beta                                         -0.107782\n",
       "Name: group, dtype: object"
      ]
     },
     "execution_count": 25,
     "metadata": {},
     "output_type": "execute_result"
    }
   ],
   "source": [
    "portfolio.returns_stats()"
   ]
  },
  {
   "cell_type": "markdown",
   "metadata": {},
   "source": [
    "##### Annual Returns"
   ]
  },
  {
   "cell_type": "markdown",
   "metadata": {},
   "source": [
    "We can see the annual returns of the strategy, and the advantage of having the output in a simple pandas series is that we can then manipulate and display this data however we want to analyze it in different ways, for example by making a bar plot of the annual returns, in this specific case. "
   ]
  },
  {
   "cell_type": "code",
   "execution_count": 26,
   "metadata": {},
   "outputs": [
    {
     "data": {
      "text/plain": [
       "Date\n",
       "1999-04-07 00:00:00+00:00    -0.225791\n",
       "2000-04-06 00:00:00+00:00     4.087178\n",
       "2001-04-06 00:00:00+00:00    -0.189695\n",
       "2002-04-06 00:00:00+00:00     1.131165\n",
       "2003-04-06 00:00:00+00:00     0.884160\n",
       "2004-04-05 00:00:00+00:00    -0.289397\n",
       "2005-04-05 00:00:00+00:00     0.356911\n",
       "2006-04-05 00:00:00+00:00    -0.166240\n",
       "2007-04-05 00:00:00+00:00     0.687942\n",
       "2008-04-04 00:00:00+00:00     2.966231\n",
       "2009-04-04 00:00:00+00:00     1.305499\n",
       "2010-04-04 00:00:00+00:00     1.417747\n",
       "2011-04-04 00:00:00+00:00     0.821203\n",
       "2012-04-03 00:00:00+00:00     0.130452\n",
       "2013-04-03 00:00:00+00:00     1.395278\n",
       "2014-04-03 00:00:00+00:00     0.842624\n",
       "2015-04-03 00:00:00+00:00     1.350014\n",
       "2016-04-02 00:00:00+00:00     0.675128\n",
       "2017-04-02 00:00:00+00:00     1.948730\n",
       "2018-04-02 00:00:00+00:00     1.696418\n",
       "2019-04-02 00:00:00+00:00    25.100971\n",
       "2020-04-01 00:00:00+00:00     9.515804\n",
       "2021-04-01 00:00:00+00:00     1.459666\n",
       "2022-04-01 00:00:00+00:00     4.898051\n",
       "Freq: 365D, Name: group, dtype: float64"
      ]
     },
     "execution_count": 26,
     "metadata": {},
     "output_type": "execute_result"
    }
   ],
   "source": [
    "# Annual returns\n",
    "annual_returns = portfolio.annual_returns # can also type portfolio.get_annual_returns()\n",
    "annual_returns"
   ]
  },
  {
   "cell_type": "code",
   "execution_count": 57,
   "metadata": {},
   "outputs": [
    {
     "data": {
      "application/vnd.plotly.v1+json": {
       "config": {
        "plotlyServerURL": "https://plot.ly"
       },
       "data": [
        {
         "alignmentgroup": "True",
         "hovertemplate": "Date=%{x}<br>Portfolio Return=%{y}<extra></extra>",
         "legendgroup": "",
         "marker": {
          "color": "#636efa",
          "pattern": {
           "shape": ""
          }
         },
         "name": "",
         "offsetgroup": "",
         "orientation": "v",
         "showlegend": false,
         "textposition": "auto",
         "type": "bar",
         "x": [
          "1999-04-07T00:00:00+00:00",
          "2000-04-06T00:00:00+00:00",
          "2001-04-06T00:00:00+00:00",
          "2002-04-06T00:00:00+00:00",
          "2003-04-06T00:00:00+00:00",
          "2004-04-05T00:00:00+00:00",
          "2005-04-05T00:00:00+00:00",
          "2006-04-05T00:00:00+00:00",
          "2007-04-05T00:00:00+00:00",
          "2008-04-04T00:00:00+00:00",
          "2009-04-04T00:00:00+00:00",
          "2010-04-04T00:00:00+00:00",
          "2011-04-04T00:00:00+00:00",
          "2012-04-03T00:00:00+00:00",
          "2013-04-03T00:00:00+00:00",
          "2014-04-03T00:00:00+00:00",
          "2015-04-03T00:00:00+00:00",
          "2016-04-02T00:00:00+00:00",
          "2017-04-02T00:00:00+00:00",
          "2018-04-02T00:00:00+00:00",
          "2019-04-02T00:00:00+00:00",
          "2020-04-01T00:00:00+00:00",
          "2021-04-01T00:00:00+00:00",
          "2022-04-01T00:00:00+00:00"
         ],
         "xaxis": "x",
         "y": [
          -0.22579140234899342,
          4.0871779267244035,
          -0.18969468341755147,
          1.1311645783925819,
          0.8841595777627385,
          -0.2893970826193589,
          0.35691125778402943,
          -0.16623985900193938,
          0.6879415846900716,
          2.966231198289956,
          1.3054990209873267,
          1.4177465036130115,
          0.821202726037852,
          0.1304515123733021,
          1.3952775446049097,
          0.842624256791376,
          1.3500138348789412,
          0.6751278226329958,
          1.9487301964968866,
          1.6964179924596903,
          25.100971021939138,
          9.515803543671982,
          1.4596663723405534,
          4.898051193107268
         ],
         "yaxis": "y"
        }
       ],
       "layout": {
        "barmode": "relative",
        "legend": {
         "tracegroupgap": 0
        },
        "template": {
         "data": {
          "bar": [
           {
            "error_x": {
             "color": "#2a3f5f"
            },
            "error_y": {
             "color": "#2a3f5f"
            },
            "marker": {
             "line": {
              "color": "#E5ECF6",
              "width": 0.5
             },
             "pattern": {
              "fillmode": "overlay",
              "size": 10,
              "solidity": 0.2
             }
            },
            "type": "bar"
           }
          ],
          "barpolar": [
           {
            "marker": {
             "line": {
              "color": "#E5ECF6",
              "width": 0.5
             },
             "pattern": {
              "fillmode": "overlay",
              "size": 10,
              "solidity": 0.2
             }
            },
            "type": "barpolar"
           }
          ],
          "carpet": [
           {
            "aaxis": {
             "endlinecolor": "#2a3f5f",
             "gridcolor": "white",
             "linecolor": "white",
             "minorgridcolor": "white",
             "startlinecolor": "#2a3f5f"
            },
            "baxis": {
             "endlinecolor": "#2a3f5f",
             "gridcolor": "white",
             "linecolor": "white",
             "minorgridcolor": "white",
             "startlinecolor": "#2a3f5f"
            },
            "type": "carpet"
           }
          ],
          "choropleth": [
           {
            "colorbar": {
             "outlinewidth": 0,
             "ticks": ""
            },
            "type": "choropleth"
           }
          ],
          "contour": [
           {
            "colorbar": {
             "outlinewidth": 0,
             "ticks": ""
            },
            "colorscale": [
             [
              0,
              "#0d0887"
             ],
             [
              0.1111111111111111,
              "#46039f"
             ],
             [
              0.2222222222222222,
              "#7201a8"
             ],
             [
              0.3333333333333333,
              "#9c179e"
             ],
             [
              0.4444444444444444,
              "#bd3786"
             ],
             [
              0.5555555555555556,
              "#d8576b"
             ],
             [
              0.6666666666666666,
              "#ed7953"
             ],
             [
              0.7777777777777778,
              "#fb9f3a"
             ],
             [
              0.8888888888888888,
              "#fdca26"
             ],
             [
              1,
              "#f0f921"
             ]
            ],
            "type": "contour"
           }
          ],
          "contourcarpet": [
           {
            "colorbar": {
             "outlinewidth": 0,
             "ticks": ""
            },
            "type": "contourcarpet"
           }
          ],
          "heatmap": [
           {
            "colorbar": {
             "outlinewidth": 0,
             "ticks": ""
            },
            "colorscale": [
             [
              0,
              "#0d0887"
             ],
             [
              0.1111111111111111,
              "#46039f"
             ],
             [
              0.2222222222222222,
              "#7201a8"
             ],
             [
              0.3333333333333333,
              "#9c179e"
             ],
             [
              0.4444444444444444,
              "#bd3786"
             ],
             [
              0.5555555555555556,
              "#d8576b"
             ],
             [
              0.6666666666666666,
              "#ed7953"
             ],
             [
              0.7777777777777778,
              "#fb9f3a"
             ],
             [
              0.8888888888888888,
              "#fdca26"
             ],
             [
              1,
              "#f0f921"
             ]
            ],
            "type": "heatmap"
           }
          ],
          "heatmapgl": [
           {
            "colorbar": {
             "outlinewidth": 0,
             "ticks": ""
            },
            "colorscale": [
             [
              0,
              "#0d0887"
             ],
             [
              0.1111111111111111,
              "#46039f"
             ],
             [
              0.2222222222222222,
              "#7201a8"
             ],
             [
              0.3333333333333333,
              "#9c179e"
             ],
             [
              0.4444444444444444,
              "#bd3786"
             ],
             [
              0.5555555555555556,
              "#d8576b"
             ],
             [
              0.6666666666666666,
              "#ed7953"
             ],
             [
              0.7777777777777778,
              "#fb9f3a"
             ],
             [
              0.8888888888888888,
              "#fdca26"
             ],
             [
              1,
              "#f0f921"
             ]
            ],
            "type": "heatmapgl"
           }
          ],
          "histogram": [
           {
            "marker": {
             "pattern": {
              "fillmode": "overlay",
              "size": 10,
              "solidity": 0.2
             }
            },
            "type": "histogram"
           }
          ],
          "histogram2d": [
           {
            "colorbar": {
             "outlinewidth": 0,
             "ticks": ""
            },
            "colorscale": [
             [
              0,
              "#0d0887"
             ],
             [
              0.1111111111111111,
              "#46039f"
             ],
             [
              0.2222222222222222,
              "#7201a8"
             ],
             [
              0.3333333333333333,
              "#9c179e"
             ],
             [
              0.4444444444444444,
              "#bd3786"
             ],
             [
              0.5555555555555556,
              "#d8576b"
             ],
             [
              0.6666666666666666,
              "#ed7953"
             ],
             [
              0.7777777777777778,
              "#fb9f3a"
             ],
             [
              0.8888888888888888,
              "#fdca26"
             ],
             [
              1,
              "#f0f921"
             ]
            ],
            "type": "histogram2d"
           }
          ],
          "histogram2dcontour": [
           {
            "colorbar": {
             "outlinewidth": 0,
             "ticks": ""
            },
            "colorscale": [
             [
              0,
              "#0d0887"
             ],
             [
              0.1111111111111111,
              "#46039f"
             ],
             [
              0.2222222222222222,
              "#7201a8"
             ],
             [
              0.3333333333333333,
              "#9c179e"
             ],
             [
              0.4444444444444444,
              "#bd3786"
             ],
             [
              0.5555555555555556,
              "#d8576b"
             ],
             [
              0.6666666666666666,
              "#ed7953"
             ],
             [
              0.7777777777777778,
              "#fb9f3a"
             ],
             [
              0.8888888888888888,
              "#fdca26"
             ],
             [
              1,
              "#f0f921"
             ]
            ],
            "type": "histogram2dcontour"
           }
          ],
          "mesh3d": [
           {
            "colorbar": {
             "outlinewidth": 0,
             "ticks": ""
            },
            "type": "mesh3d"
           }
          ],
          "parcoords": [
           {
            "line": {
             "colorbar": {
              "outlinewidth": 0,
              "ticks": ""
             }
            },
            "type": "parcoords"
           }
          ],
          "pie": [
           {
            "automargin": true,
            "type": "pie"
           }
          ],
          "scatter": [
           {
            "fillpattern": {
             "fillmode": "overlay",
             "size": 10,
             "solidity": 0.2
            },
            "type": "scatter"
           }
          ],
          "scatter3d": [
           {
            "line": {
             "colorbar": {
              "outlinewidth": 0,
              "ticks": ""
             }
            },
            "marker": {
             "colorbar": {
              "outlinewidth": 0,
              "ticks": ""
             }
            },
            "type": "scatter3d"
           }
          ],
          "scattercarpet": [
           {
            "marker": {
             "colorbar": {
              "outlinewidth": 0,
              "ticks": ""
             }
            },
            "type": "scattercarpet"
           }
          ],
          "scattergeo": [
           {
            "marker": {
             "colorbar": {
              "outlinewidth": 0,
              "ticks": ""
             }
            },
            "type": "scattergeo"
           }
          ],
          "scattergl": [
           {
            "marker": {
             "colorbar": {
              "outlinewidth": 0,
              "ticks": ""
             }
            },
            "type": "scattergl"
           }
          ],
          "scattermapbox": [
           {
            "marker": {
             "colorbar": {
              "outlinewidth": 0,
              "ticks": ""
             }
            },
            "type": "scattermapbox"
           }
          ],
          "scatterpolar": [
           {
            "marker": {
             "colorbar": {
              "outlinewidth": 0,
              "ticks": ""
             }
            },
            "type": "scatterpolar"
           }
          ],
          "scatterpolargl": [
           {
            "marker": {
             "colorbar": {
              "outlinewidth": 0,
              "ticks": ""
             }
            },
            "type": "scatterpolargl"
           }
          ],
          "scatterternary": [
           {
            "marker": {
             "colorbar": {
              "outlinewidth": 0,
              "ticks": ""
             }
            },
            "type": "scatterternary"
           }
          ],
          "surface": [
           {
            "colorbar": {
             "outlinewidth": 0,
             "ticks": ""
            },
            "colorscale": [
             [
              0,
              "#0d0887"
             ],
             [
              0.1111111111111111,
              "#46039f"
             ],
             [
              0.2222222222222222,
              "#7201a8"
             ],
             [
              0.3333333333333333,
              "#9c179e"
             ],
             [
              0.4444444444444444,
              "#bd3786"
             ],
             [
              0.5555555555555556,
              "#d8576b"
             ],
             [
              0.6666666666666666,
              "#ed7953"
             ],
             [
              0.7777777777777778,
              "#fb9f3a"
             ],
             [
              0.8888888888888888,
              "#fdca26"
             ],
             [
              1,
              "#f0f921"
             ]
            ],
            "type": "surface"
           }
          ],
          "table": [
           {
            "cells": {
             "fill": {
              "color": "#EBF0F8"
             },
             "line": {
              "color": "white"
             }
            },
            "header": {
             "fill": {
              "color": "#C8D4E3"
             },
             "line": {
              "color": "white"
             }
            },
            "type": "table"
           }
          ]
         },
         "layout": {
          "annotationdefaults": {
           "arrowcolor": "#2a3f5f",
           "arrowhead": 0,
           "arrowwidth": 1
          },
          "autotypenumbers": "strict",
          "coloraxis": {
           "colorbar": {
            "outlinewidth": 0,
            "ticks": ""
           }
          },
          "colorscale": {
           "diverging": [
            [
             0,
             "#8e0152"
            ],
            [
             0.1,
             "#c51b7d"
            ],
            [
             0.2,
             "#de77ae"
            ],
            [
             0.3,
             "#f1b6da"
            ],
            [
             0.4,
             "#fde0ef"
            ],
            [
             0.5,
             "#f7f7f7"
            ],
            [
             0.6,
             "#e6f5d0"
            ],
            [
             0.7,
             "#b8e186"
            ],
            [
             0.8,
             "#7fbc41"
            ],
            [
             0.9,
             "#4d9221"
            ],
            [
             1,
             "#276419"
            ]
           ],
           "sequential": [
            [
             0,
             "#0d0887"
            ],
            [
             0.1111111111111111,
             "#46039f"
            ],
            [
             0.2222222222222222,
             "#7201a8"
            ],
            [
             0.3333333333333333,
             "#9c179e"
            ],
            [
             0.4444444444444444,
             "#bd3786"
            ],
            [
             0.5555555555555556,
             "#d8576b"
            ],
            [
             0.6666666666666666,
             "#ed7953"
            ],
            [
             0.7777777777777778,
             "#fb9f3a"
            ],
            [
             0.8888888888888888,
             "#fdca26"
            ],
            [
             1,
             "#f0f921"
            ]
           ],
           "sequentialminus": [
            [
             0,
             "#0d0887"
            ],
            [
             0.1111111111111111,
             "#46039f"
            ],
            [
             0.2222222222222222,
             "#7201a8"
            ],
            [
             0.3333333333333333,
             "#9c179e"
            ],
            [
             0.4444444444444444,
             "#bd3786"
            ],
            [
             0.5555555555555556,
             "#d8576b"
            ],
            [
             0.6666666666666666,
             "#ed7953"
            ],
            [
             0.7777777777777778,
             "#fb9f3a"
            ],
            [
             0.8888888888888888,
             "#fdca26"
            ],
            [
             1,
             "#f0f921"
            ]
           ]
          },
          "colorway": [
           "#636efa",
           "#EF553B",
           "#00cc96",
           "#ab63fa",
           "#FFA15A",
           "#19d3f3",
           "#FF6692",
           "#B6E880",
           "#FF97FF",
           "#FECB52"
          ],
          "font": {
           "color": "#2a3f5f"
          },
          "geo": {
           "bgcolor": "white",
           "lakecolor": "white",
           "landcolor": "#E5ECF6",
           "showlakes": true,
           "showland": true,
           "subunitcolor": "white"
          },
          "hoverlabel": {
           "align": "left"
          },
          "hovermode": "closest",
          "mapbox": {
           "style": "light"
          },
          "paper_bgcolor": "white",
          "plot_bgcolor": "#E5ECF6",
          "polar": {
           "angularaxis": {
            "gridcolor": "white",
            "linecolor": "white",
            "ticks": ""
           },
           "bgcolor": "#E5ECF6",
           "radialaxis": {
            "gridcolor": "white",
            "linecolor": "white",
            "ticks": ""
           }
          },
          "scene": {
           "xaxis": {
            "backgroundcolor": "#E5ECF6",
            "gridcolor": "white",
            "gridwidth": 2,
            "linecolor": "white",
            "showbackground": true,
            "ticks": "",
            "zerolinecolor": "white"
           },
           "yaxis": {
            "backgroundcolor": "#E5ECF6",
            "gridcolor": "white",
            "gridwidth": 2,
            "linecolor": "white",
            "showbackground": true,
            "ticks": "",
            "zerolinecolor": "white"
           },
           "zaxis": {
            "backgroundcolor": "#E5ECF6",
            "gridcolor": "white",
            "gridwidth": 2,
            "linecolor": "white",
            "showbackground": true,
            "ticks": "",
            "zerolinecolor": "white"
           }
          },
          "shapedefaults": {
           "line": {
            "color": "#2a3f5f"
           }
          },
          "ternary": {
           "aaxis": {
            "gridcolor": "white",
            "linecolor": "white",
            "ticks": ""
           },
           "baxis": {
            "gridcolor": "white",
            "linecolor": "white",
            "ticks": ""
           },
           "bgcolor": "#E5ECF6",
           "caxis": {
            "gridcolor": "white",
            "linecolor": "white",
            "ticks": ""
           }
          },
          "title": {
           "x": 0.05
          },
          "xaxis": {
           "automargin": true,
           "gridcolor": "white",
           "linecolor": "white",
           "ticks": "",
           "title": {
            "standoff": 15
           },
           "zerolinecolor": "white",
           "zerolinewidth": 2
          },
          "yaxis": {
           "automargin": true,
           "gridcolor": "white",
           "linecolor": "white",
           "ticks": "",
           "title": {
            "standoff": 15
           },
           "zerolinecolor": "white",
           "zerolinewidth": 2
          }
         }
        },
        "title": {
         "text": "Annual Returns"
        },
        "xaxis": {
         "anchor": "y",
         "domain": [
          0,
          1
         ],
         "title": {
          "text": "Date"
         }
        },
        "yaxis": {
         "anchor": "x",
         "domain": [
          0,
          1
         ],
         "title": {
          "text": "Portfolio Return"
         }
        }
       }
      }
     },
     "metadata": {},
     "output_type": "display_data"
    }
   ],
   "source": [
    "# Make an bar plot of the annual returns\n",
    "annual_returns_plot = px.bar(annual_returns, x=annual_returns.index, y=annual_returns.values, labels={\"x\":\"Year\", \"y\":\"Portfolio Return\"}, title=\"Annual Returns\")\n",
    "annual_returns_plot.show()\n",
    "annual_returns_plot.write_html(\"./html/annual_returns.html\", default_width=800, default_height=250)"
   ]
  },
  {
   "cell_type": "code",
   "execution_count": 58,
   "metadata": {},
   "outputs": [
    {
     "data": {
      "text/html": [
       "\n",
       "        <iframe\n",
       "            width=\"800\"\n",
       "            height=\"500\"\n",
       "            src=\"./html/annual_returns.html\"\n",
       "            frameborder=\"0\"\n",
       "            allowfullscreen\n",
       "            \n",
       "        ></iframe>\n",
       "        "
      ],
      "text/plain": [
       "<IPython.lib.display.IFrame at 0x13db755d0>"
      ]
     },
     "execution_count": 58,
     "metadata": {},
     "output_type": "execute_result"
    }
   ],
   "source": [
    "from IPython.display import IFrame\n",
    "IFrame(src='./html/annual_returns.html', width=800, height=500)"
   ]
  },
  {
   "cell_type": "markdown",
   "metadata": {},
   "source": [
    "#### Plots"
   ]
  },
  {
   "cell_type": "markdown",
   "metadata": {},
   "source": [
    "Vectorbt.pro also has *a lot* of already built-in interactive plots that can be generated very easily. Below we'll plot all the available plots just for reference"
   ]
  },
  {
   "cell_type": "code",
   "execution_count": 28,
   "metadata": {},
   "outputs": [
    {
     "name": "stderr",
     "output_type": "stream",
     "text": [
      "/Users/lorenzominghetti/Projects/vectorbt.pro-1.7.1/vectorbtpro/generic/plots_builder.py:396: UserWarning:\n",
      "\n",
      "Subplot 'orders' does not support grouped data\n",
      "\n",
      "/Users/lorenzominghetti/Projects/vectorbt.pro-1.7.1/vectorbtpro/generic/plots_builder.py:396: UserWarning:\n",
      "\n",
      "Subplot 'trades' does not support grouped data\n",
      "\n",
      "/Users/lorenzominghetti/Projects/vectorbt.pro-1.7.1/vectorbtpro/generic/plots_builder.py:396: UserWarning:\n",
      "\n",
      "Subplot 'trade_pnl' does not support grouped data\n",
      "\n",
      "/Users/lorenzominghetti/Projects/vectorbt.pro-1.7.1/vectorbtpro/generic/plots_builder.py:396: UserWarning:\n",
      "\n",
      "Subplot 'asset_flow' does not support grouped data\n",
      "\n",
      "/Users/lorenzominghetti/Projects/vectorbt.pro-1.7.1/vectorbtpro/generic/plots_builder.py:396: UserWarning:\n",
      "\n",
      "Subplot 'assets' does not support grouped data\n",
      "\n"
     ]
    },
    {
     "data": {
      "application/vnd.jupyter.widget-view+json": {
       "model_id": "1f339e61d27d44b39e6192ba47d448a3",
       "version_major": 2,
       "version_minor": 0
      },
      "text/plain": [
       "FigureWidget({\n",
       "    'data': [{'legendgroup': '0',\n",
       "              'line': {'color': '#2ca02c'},\n",
       "              'mo…"
      ]
     },
     "metadata": {},
     "output_type": "display_data"
    }
   ],
   "source": [
    "# Let's plot all the possible subplots just for reference. By default there's only the return curve.\n",
    "portfolio.plot(settings=dict(bm_returns=True), subplots=\"all\")"
   ]
  },
  {
   "cell_type": "markdown",
   "metadata": {},
   "source": [
    "It's also possible to specify custom subplots. The example below would create a cumulative returns and rolling drawdown plot. You can set the settings across all the subplots by using the global template mapping by adding `template_context=dict(window=10)` for example."
   ]
  },
  {
   "cell_type": "code",
   "execution_count": 29,
   "metadata": {},
   "outputs": [],
   "source": [
    "# subplots = [\n",
    "#     ('cumulative_returns', dict(\n",
    "#         title='Cumulative Returns',\n",
    "#         yaxis_kwargs=dict(title='Cumulative returns'),\n",
    "#         plot_func='cumulative_returns.vbt.plot',\n",
    "#         select_col_cumulative_returns=True,\n",
    "#         pass_add_trace_kwargs=True\n",
    "#     )),\n",
    "#     ('rolling_drawdown', dict(\n",
    "#         title='Rolling Drawdown',\n",
    "#         yaxis_kwargs=dict(title='Rolling drawdown'),\n",
    "#         plot_func=[\n",
    "#             'returns_acc',  # returns accessor\n",
    "#             (\n",
    "#                 'rolling_max_drawdown',  # function name\n",
    "#                 (vbt.Rep('window'),)),  # positional arguments\n",
    "#             'vbt.plot'  # plotting function\n",
    "#         ],\n",
    "#         select_col_returns_acc=True,\n",
    "#         pass_add_trace_kwargs=True,\n",
    "#         trace_names=[vbt.Sub('rolling_drawdown(${window})')],  # add window to the trace name\n",
    "#     ))\n",
    "# ]\n",
    "\n",
    "# portfolio.plot(subplots, template_context=dict(window=10))\n"
   ]
  },
  {
   "cell_type": "markdown",
   "metadata": {},
   "source": [
    "#### Drawdowns"
   ]
  },
  {
   "cell_type": "markdown",
   "metadata": {},
   "source": [
    "Like the returns, drawdowns can also be analyzed extensively."
   ]
  },
  {
   "cell_type": "code",
   "execution_count": 30,
   "metadata": {},
   "outputs": [
    {
     "data": {
      "text/plain": [
       "Start                           1999-04-07 00:00:00+00:00\n",
       "End                             2022-10-18 00:00:00+00:00\n",
       "Period                                 5924 days 00:00:00\n",
       "Coverage [%]                                     86.79946\n",
       "Total Records                                         332\n",
       "Total Recovered Drawdowns                             331\n",
       "Total Active Drawdowns                                  1\n",
       "Active Drawdown [%]                             12.100031\n",
       "Active Duration                           2 days 00:00:00\n",
       "Active Recovery [%]                                   0.0\n",
       "Active Recovery Return [%]                            0.0\n",
       "Active Recovery Duration                  0 days 00:00:00\n",
       "Max Drawdown [%]                                73.491664\n",
       "Avg Drawdown [%]                                 8.102684\n",
       "Max Drawdown Duration                   875 days 00:00:00\n",
       "Avg Drawdown Duration          15 days 12:41:19.758308157\n",
       "Max Recovery Return [%]                        294.319213\n",
       "Avg Recovery Return [%]                         14.915101\n",
       "Max Recovery Duration                   249 days 00:00:00\n",
       "Avg Recovery Duration           7 days 12:06:31.540785498\n",
       "Avg Recovery Duration Ratio                      1.367338\n",
       "Name: group, dtype: object"
      ]
     },
     "execution_count": 30,
     "metadata": {},
     "output_type": "execute_result"
    }
   ],
   "source": [
    "portfolio.get_drawdowns().stats()"
   ]
  },
  {
   "cell_type": "code",
   "execution_count": 31,
   "metadata": {},
   "outputs": [
    {
     "data": {
      "application/vnd.jupyter.widget-view+json": {
       "model_id": "83f89cf99d2946c5a2069fe752545010",
       "version_major": 2,
       "version_minor": 0
      },
      "text/plain": [
       "FigureWidget({\n",
       "    'data': [{'line': {'color': '#1f77b4'},\n",
       "              'mode': 'lines',\n",
       "              'name'…"
      ]
     },
     "metadata": {},
     "output_type": "display_data"
    }
   ],
   "source": [
    "portfolio.get_drawdowns().plot()"
   ]
  },
  {
   "cell_type": "code",
   "execution_count": 32,
   "metadata": {},
   "outputs": [
    {
     "data": {
      "application/vnd.jupyter.widget-view+json": {
       "model_id": "fcdbcf2a973748569dab6348c9a52827",
       "version_major": 2,
       "version_minor": 0
      },
      "text/plain": [
       "FigureWidget({\n",
       "    'data': [{'fill': 'tozeroy',\n",
       "              'fillcolor': 'rgba(220,57,18,0.3000)',\n",
       "         …"
      ]
     },
     "metadata": {},
     "output_type": "display_data"
    }
   ],
   "source": [
    "portfolio.plot_underwater()"
   ]
  },
  {
   "cell_type": "code",
   "execution_count": 33,
   "metadata": {},
   "outputs": [
    {
     "data": {
      "text/html": [
       "<div>\n",
       "<style scoped>\n",
       "    .dataframe tbody tr th:only-of-type {\n",
       "        vertical-align: middle;\n",
       "    }\n",
       "\n",
       "    .dataframe tbody tr th {\n",
       "        vertical-align: top;\n",
       "    }\n",
       "\n",
       "    .dataframe thead th {\n",
       "        text-align: right;\n",
       "    }\n",
       "</style>\n",
       "<table border=\"1\" class=\"dataframe\">\n",
       "  <thead>\n",
       "    <tr style=\"text-align: right;\">\n",
       "      <th></th>\n",
       "      <th>Drawdown Id</th>\n",
       "      <th>Column</th>\n",
       "      <th>Peak Index</th>\n",
       "      <th>Start Index</th>\n",
       "      <th>Valley Index</th>\n",
       "      <th>End Index</th>\n",
       "      <th>Peak Value</th>\n",
       "      <th>Valley Value</th>\n",
       "      <th>End Value</th>\n",
       "      <th>Status</th>\n",
       "    </tr>\n",
       "  </thead>\n",
       "  <tbody>\n",
       "    <tr>\n",
       "      <th>0</th>\n",
       "      <td>0</td>\n",
       "      <td>group</td>\n",
       "      <td>1999-04-08 00:00:00+00:00</td>\n",
       "      <td>1999-04-09 00:00:00+00:00</td>\n",
       "      <td>1999-04-16 00:00:00+00:00</td>\n",
       "      <td>1999-04-19 00:00:00+00:00</td>\n",
       "      <td>1.009293e+02</td>\n",
       "      <td>8.917106e+01</td>\n",
       "      <td>1.017766e+02</td>\n",
       "      <td>Recovered</td>\n",
       "    </tr>\n",
       "    <tr>\n",
       "      <th>1</th>\n",
       "      <td>1</td>\n",
       "      <td>group</td>\n",
       "      <td>1999-04-20 00:00:00+00:00</td>\n",
       "      <td>1999-04-21 00:00:00+00:00</td>\n",
       "      <td>1999-10-28 00:00:00+00:00</td>\n",
       "      <td>2000-01-06 00:00:00+00:00</td>\n",
       "      <td>1.086694e+02</td>\n",
       "      <td>4.954582e+01</td>\n",
       "      <td>1.268284e+02</td>\n",
       "      <td>Recovered</td>\n",
       "    </tr>\n",
       "    <tr>\n",
       "      <th>2</th>\n",
       "      <td>2</td>\n",
       "      <td>group</td>\n",
       "      <td>2000-01-06 00:00:00+00:00</td>\n",
       "      <td>2000-01-07 00:00:00+00:00</td>\n",
       "      <td>2000-04-14 00:00:00+00:00</td>\n",
       "      <td>2000-08-02 00:00:00+00:00</td>\n",
       "      <td>1.268284e+02</td>\n",
       "      <td>4.594489e+01</td>\n",
       "      <td>1.304440e+02</td>\n",
       "      <td>Recovered</td>\n",
       "    </tr>\n",
       "    <tr>\n",
       "      <th>3</th>\n",
       "      <td>3</td>\n",
       "      <td>group</td>\n",
       "      <td>2000-08-02 00:00:00+00:00</td>\n",
       "      <td>2000-08-03 00:00:00+00:00</td>\n",
       "      <td>2000-08-07 00:00:00+00:00</td>\n",
       "      <td>2000-08-31 00:00:00+00:00</td>\n",
       "      <td>1.304440e+02</td>\n",
       "      <td>1.135298e+02</td>\n",
       "      <td>1.365279e+02</td>\n",
       "      <td>Recovered</td>\n",
       "    </tr>\n",
       "    <tr>\n",
       "      <th>4</th>\n",
       "      <td>4</td>\n",
       "      <td>group</td>\n",
       "      <td>2000-09-01 00:00:00+00:00</td>\n",
       "      <td>2000-09-05 00:00:00+00:00</td>\n",
       "      <td>2000-09-07 00:00:00+00:00</td>\n",
       "      <td>2000-09-26 00:00:00+00:00</td>\n",
       "      <td>1.404799e+02</td>\n",
       "      <td>1.139203e+02</td>\n",
       "      <td>1.433934e+02</td>\n",
       "      <td>Recovered</td>\n",
       "    </tr>\n",
       "    <tr>\n",
       "      <th>...</th>\n",
       "      <td>...</td>\n",
       "      <td>...</td>\n",
       "      <td>...</td>\n",
       "      <td>...</td>\n",
       "      <td>...</td>\n",
       "      <td>...</td>\n",
       "      <td>...</td>\n",
       "      <td>...</td>\n",
       "      <td>...</td>\n",
       "      <td>...</td>\n",
       "    </tr>\n",
       "    <tr>\n",
       "      <th>327</th>\n",
       "      <td>327</td>\n",
       "      <td>group</td>\n",
       "      <td>2022-09-21 00:00:00+00:00</td>\n",
       "      <td>2022-09-22 00:00:00+00:00</td>\n",
       "      <td>2022-09-26 00:00:00+00:00</td>\n",
       "      <td>2022-09-29 00:00:00+00:00</td>\n",
       "      <td>3.661402e+10</td>\n",
       "      <td>3.311646e+10</td>\n",
       "      <td>3.800744e+10</td>\n",
       "      <td>Recovered</td>\n",
       "    </tr>\n",
       "    <tr>\n",
       "      <th>328</th>\n",
       "      <td>328</td>\n",
       "      <td>group</td>\n",
       "      <td>2022-09-29 00:00:00+00:00</td>\n",
       "      <td>2022-09-30 00:00:00+00:00</td>\n",
       "      <td>2022-09-30 00:00:00+00:00</td>\n",
       "      <td>2022-10-03 00:00:00+00:00</td>\n",
       "      <td>3.800744e+10</td>\n",
       "      <td>3.601294e+10</td>\n",
       "      <td>3.851073e+10</td>\n",
       "      <td>Recovered</td>\n",
       "    </tr>\n",
       "    <tr>\n",
       "      <th>329</th>\n",
       "      <td>329</td>\n",
       "      <td>group</td>\n",
       "      <td>2022-10-03 00:00:00+00:00</td>\n",
       "      <td>2022-10-04 00:00:00+00:00</td>\n",
       "      <td>2022-10-05 00:00:00+00:00</td>\n",
       "      <td>2022-10-07 00:00:00+00:00</td>\n",
       "      <td>3.851073e+10</td>\n",
       "      <td>3.488746e+10</td>\n",
       "      <td>3.993029e+10</td>\n",
       "      <td>Recovered</td>\n",
       "    </tr>\n",
       "    <tr>\n",
       "      <th>330</th>\n",
       "      <td>330</td>\n",
       "      <td>group</td>\n",
       "      <td>2022-10-11 00:00:00+00:00</td>\n",
       "      <td>2022-10-12 00:00:00+00:00</td>\n",
       "      <td>2022-10-12 00:00:00+00:00</td>\n",
       "      <td>2022-10-13 00:00:00+00:00</td>\n",
       "      <td>4.272210e+10</td>\n",
       "      <td>4.262790e+10</td>\n",
       "      <td>4.547761e+10</td>\n",
       "      <td>Recovered</td>\n",
       "    </tr>\n",
       "    <tr>\n",
       "      <th>331</th>\n",
       "      <td>331</td>\n",
       "      <td>group</td>\n",
       "      <td>2022-10-14 00:00:00+00:00</td>\n",
       "      <td>2022-10-17 00:00:00+00:00</td>\n",
       "      <td>2022-10-18 00:00:00+00:00</td>\n",
       "      <td>2022-10-18 00:00:00+00:00</td>\n",
       "      <td>4.953220e+10</td>\n",
       "      <td>4.353879e+10</td>\n",
       "      <td>4.353879e+10</td>\n",
       "      <td>Active</td>\n",
       "    </tr>\n",
       "  </tbody>\n",
       "</table>\n",
       "<p>332 rows × 10 columns</p>\n",
       "</div>"
      ],
      "text/plain": [
       "     Drawdown Id Column                Peak Index               Start Index  \\\n",
       "0              0  group 1999-04-08 00:00:00+00:00 1999-04-09 00:00:00+00:00   \n",
       "1              1  group 1999-04-20 00:00:00+00:00 1999-04-21 00:00:00+00:00   \n",
       "2              2  group 2000-01-06 00:00:00+00:00 2000-01-07 00:00:00+00:00   \n",
       "3              3  group 2000-08-02 00:00:00+00:00 2000-08-03 00:00:00+00:00   \n",
       "4              4  group 2000-09-01 00:00:00+00:00 2000-09-05 00:00:00+00:00   \n",
       "..           ...    ...                       ...                       ...   \n",
       "327          327  group 2022-09-21 00:00:00+00:00 2022-09-22 00:00:00+00:00   \n",
       "328          328  group 2022-09-29 00:00:00+00:00 2022-09-30 00:00:00+00:00   \n",
       "329          329  group 2022-10-03 00:00:00+00:00 2022-10-04 00:00:00+00:00   \n",
       "330          330  group 2022-10-11 00:00:00+00:00 2022-10-12 00:00:00+00:00   \n",
       "331          331  group 2022-10-14 00:00:00+00:00 2022-10-17 00:00:00+00:00   \n",
       "\n",
       "                 Valley Index                 End Index    Peak Value  \\\n",
       "0   1999-04-16 00:00:00+00:00 1999-04-19 00:00:00+00:00  1.009293e+02   \n",
       "1   1999-10-28 00:00:00+00:00 2000-01-06 00:00:00+00:00  1.086694e+02   \n",
       "2   2000-04-14 00:00:00+00:00 2000-08-02 00:00:00+00:00  1.268284e+02   \n",
       "3   2000-08-07 00:00:00+00:00 2000-08-31 00:00:00+00:00  1.304440e+02   \n",
       "4   2000-09-07 00:00:00+00:00 2000-09-26 00:00:00+00:00  1.404799e+02   \n",
       "..                        ...                       ...           ...   \n",
       "327 2022-09-26 00:00:00+00:00 2022-09-29 00:00:00+00:00  3.661402e+10   \n",
       "328 2022-09-30 00:00:00+00:00 2022-10-03 00:00:00+00:00  3.800744e+10   \n",
       "329 2022-10-05 00:00:00+00:00 2022-10-07 00:00:00+00:00  3.851073e+10   \n",
       "330 2022-10-12 00:00:00+00:00 2022-10-13 00:00:00+00:00  4.272210e+10   \n",
       "331 2022-10-18 00:00:00+00:00 2022-10-18 00:00:00+00:00  4.953220e+10   \n",
       "\n",
       "     Valley Value     End Value     Status  \n",
       "0    8.917106e+01  1.017766e+02  Recovered  \n",
       "1    4.954582e+01  1.268284e+02  Recovered  \n",
       "2    4.594489e+01  1.304440e+02  Recovered  \n",
       "3    1.135298e+02  1.365279e+02  Recovered  \n",
       "4    1.139203e+02  1.433934e+02  Recovered  \n",
       "..            ...           ...        ...  \n",
       "327  3.311646e+10  3.800744e+10  Recovered  \n",
       "328  3.601294e+10  3.851073e+10  Recovered  \n",
       "329  3.488746e+10  3.993029e+10  Recovered  \n",
       "330  4.262790e+10  4.547761e+10  Recovered  \n",
       "331  4.353879e+10  4.353879e+10     Active  \n",
       "\n",
       "[332 rows x 10 columns]"
      ]
     },
     "execution_count": 33,
     "metadata": {},
     "output_type": "execute_result"
    }
   ],
   "source": [
    "drawdown_df = portfolio.get_drawdowns().records_readable\n",
    "drawdown_df"
   ]
  },
  {
   "cell_type": "markdown",
   "metadata": {},
   "source": [
    "As another example of how it's possible to play with the data, let's create a dataframe that sorts the percentage drawdowns from biggest to smallest and shows the drawdown start and recovery date."
   ]
  },
  {
   "cell_type": "code",
   "execution_count": 34,
   "metadata": {},
   "outputs": [
    {
     "data": {
      "text/html": [
       "<div>\n",
       "<style scoped>\n",
       "    .dataframe tbody tr th:only-of-type {\n",
       "        vertical-align: middle;\n",
       "    }\n",
       "\n",
       "    .dataframe tbody tr th {\n",
       "        vertical-align: top;\n",
       "    }\n",
       "\n",
       "    .dataframe thead th {\n",
       "        text-align: right;\n",
       "    }\n",
       "</style>\n",
       "<table border=\"1\" class=\"dataframe\">\n",
       "  <thead>\n",
       "    <tr style=\"text-align: right;\">\n",
       "      <th></th>\n",
       "      <th>Peak Index</th>\n",
       "      <th>Valley Index</th>\n",
       "      <th>Drawdown PCT</th>\n",
       "    </tr>\n",
       "  </thead>\n",
       "  <tbody>\n",
       "    <tr>\n",
       "      <th>17</th>\n",
       "      <td>2001-04-06</td>\n",
       "      <td>2001-09-21</td>\n",
       "      <td>73.491664</td>\n",
       "    </tr>\n",
       "    <tr>\n",
       "      <th>42</th>\n",
       "      <td>2004-01-16</td>\n",
       "      <td>2006-07-14</td>\n",
       "      <td>65.079365</td>\n",
       "    </tr>\n",
       "    <tr>\n",
       "      <th>2</th>\n",
       "      <td>2000-01-06</td>\n",
       "      <td>2000-04-14</td>\n",
       "      <td>63.773964</td>\n",
       "    </tr>\n",
       "    <tr>\n",
       "      <th>22</th>\n",
       "      <td>2001-12-07</td>\n",
       "      <td>2002-06-11</td>\n",
       "      <td>58.781410</td>\n",
       "    </tr>\n",
       "    <tr>\n",
       "      <th>1</th>\n",
       "      <td>1999-04-20</td>\n",
       "      <td>1999-10-28</td>\n",
       "      <td>54.406845</td>\n",
       "    </tr>\n",
       "    <tr>\n",
       "      <th>...</th>\n",
       "      <td>...</td>\n",
       "      <td>...</td>\n",
       "      <td>...</td>\n",
       "    </tr>\n",
       "    <tr>\n",
       "      <th>165</th>\n",
       "      <td>2016-03-14</td>\n",
       "      <td>2016-03-15</td>\n",
       "      <td>0.063342</td>\n",
       "    </tr>\n",
       "    <tr>\n",
       "      <th>300</th>\n",
       "      <td>2021-07-12</td>\n",
       "      <td>2021-07-13</td>\n",
       "      <td>0.053529</td>\n",
       "    </tr>\n",
       "    <tr>\n",
       "      <th>29</th>\n",
       "      <td>2003-07-09</td>\n",
       "      <td>2003-07-10</td>\n",
       "      <td>0.033248</td>\n",
       "    </tr>\n",
       "    <tr>\n",
       "      <th>207</th>\n",
       "      <td>2017-11-09</td>\n",
       "      <td>2017-11-10</td>\n",
       "      <td>0.029929</td>\n",
       "    </tr>\n",
       "    <tr>\n",
       "      <th>284</th>\n",
       "      <td>2020-12-29</td>\n",
       "      <td>2020-12-30</td>\n",
       "      <td>0.016628</td>\n",
       "    </tr>\n",
       "  </tbody>\n",
       "</table>\n",
       "<p>332 rows × 3 columns</p>\n",
       "</div>"
      ],
      "text/plain": [
       "    Peak Index Valley Index  Drawdown PCT\n",
       "17  2001-04-06   2001-09-21     73.491664\n",
       "42  2004-01-16   2006-07-14     65.079365\n",
       "2   2000-01-06   2000-04-14     63.773964\n",
       "22  2001-12-07   2002-06-11     58.781410\n",
       "1   1999-04-20   1999-10-28     54.406845\n",
       "..         ...          ...           ...\n",
       "165 2016-03-14   2016-03-15      0.063342\n",
       "300 2021-07-12   2021-07-13      0.053529\n",
       "29  2003-07-09   2003-07-10      0.033248\n",
       "207 2017-11-09   2017-11-10      0.029929\n",
       "284 2020-12-29   2020-12-30      0.016628\n",
       "\n",
       "[332 rows x 3 columns]"
      ]
     },
     "execution_count": 34,
     "metadata": {},
     "output_type": "execute_result"
    }
   ],
   "source": [
    "drawdown_df[\"Drawdown PCT\"] = ((drawdown_df[\"Peak Value\"]-drawdown_df[\"Valley Value\"])/drawdown_df[\"Peak Value\"])*100\n",
    "biggest_drawdowns = drawdown_df[[\"Peak Index\", \"Valley Index\", \"Drawdown PCT\"]].sort_values(by=[\"Drawdown PCT\"], ascending=False)\n",
    "biggest_drawdowns[\"Peak Index\"] = biggest_drawdowns[\"Peak Index\"].dt.tz_localize(None)\n",
    "biggest_drawdowns[\"Valley Index\"] = biggest_drawdowns[\"Valley Index\"].dt.tz_localize(None)\n",
    "biggest_drawdowns"
   ]
  },
  {
   "cell_type": "markdown",
   "metadata": {},
   "source": [
    "#### Analysis per single asset inside the portfolio"
   ]
  },
  {
   "cell_type": "markdown",
   "metadata": {},
   "source": [
    "With `group_by=False` it's possible analize the contribution to returns, drawdowns and all the other metrics for each single ticker in the portfolio separately from the others, for really in-depth analysis of what's contributing to the performance of the portfolio."
   ]
  },
  {
   "cell_type": "code",
   "execution_count": 35,
   "metadata": {},
   "outputs": [],
   "source": [
    "portfolio_not_grouped = vbt.Portfolio.from_orders(\n",
    "    \n",
    "    close=close_prices,\n",
    "    #bm_close=put_your_benchmark_close_prices_here,\n",
    "    size=allocations, # Here we pass the allocations we calculated earlier\n",
    "    size_type=\"targetpercent\",\n",
    "    group_by=False,  \n",
    "    cash_sharing=True,\n",
    "    call_seq=\"auto\",\n",
    "    freq='D', # needed to calculate annualized returns and some metrics like sharpe, sortino etc in portfolio.stats()\n",
    "    fees=0, # can specify a transaction fee here\n",
    "    )"
   ]
  },
  {
   "cell_type": "markdown",
   "metadata": {},
   "source": [
    "We can get a dataframe with all the stats for each single asset"
   ]
  },
  {
   "cell_type": "code",
   "execution_count": 36,
   "metadata": {},
   "outputs": [
    {
     "data": {
      "text/html": [
       "<div>\n",
       "<style scoped>\n",
       "    .dataframe tbody tr th:only-of-type {\n",
       "        vertical-align: middle;\n",
       "    }\n",
       "\n",
       "    .dataframe tbody tr th {\n",
       "        vertical-align: top;\n",
       "    }\n",
       "\n",
       "    .dataframe thead th {\n",
       "        text-align: right;\n",
       "    }\n",
       "</style>\n",
       "<table border=\"1\" class=\"dataframe\">\n",
       "  <thead>\n",
       "    <tr style=\"text-align: right;\">\n",
       "      <th></th>\n",
       "      <th></th>\n",
       "      <th>Start</th>\n",
       "      <th>End</th>\n",
       "      <th>Period</th>\n",
       "      <th>Start Value</th>\n",
       "      <th>Min Value</th>\n",
       "      <th>Max Value</th>\n",
       "      <th>End Value</th>\n",
       "      <th>Total Return [%]</th>\n",
       "      <th>Benchmark Return [%]</th>\n",
       "      <th>Total Time Exposure [%]</th>\n",
       "      <th>...</th>\n",
       "      <th>Avg Winning Trade [%]</th>\n",
       "      <th>Avg Losing Trade [%]</th>\n",
       "      <th>Avg Winning Trade Duration</th>\n",
       "      <th>Avg Losing Trade Duration</th>\n",
       "      <th>Profit Factor</th>\n",
       "      <th>Expectancy</th>\n",
       "      <th>Sharpe Ratio</th>\n",
       "      <th>Calmar Ratio</th>\n",
       "      <th>Omega Ratio</th>\n",
       "      <th>Sortino Ratio</th>\n",
       "    </tr>\n",
       "    <tr>\n",
       "      <th>symbol</th>\n",
       "      <th></th>\n",
       "      <th></th>\n",
       "      <th></th>\n",
       "      <th></th>\n",
       "      <th></th>\n",
       "      <th></th>\n",
       "      <th></th>\n",
       "      <th></th>\n",
       "      <th></th>\n",
       "      <th></th>\n",
       "      <th></th>\n",
       "      <th></th>\n",
       "      <th></th>\n",
       "      <th></th>\n",
       "      <th></th>\n",
       "      <th></th>\n",
       "      <th></th>\n",
       "      <th></th>\n",
       "      <th></th>\n",
       "      <th></th>\n",
       "      <th></th>\n",
       "      <th></th>\n",
       "    </tr>\n",
       "  </thead>\n",
       "  <tbody>\n",
       "    <tr>\n",
       "      <th>TQQQ</th>\n",
       "      <th>TQQQ</th>\n",
       "      <td>1999-04-07 00:00:00+00:00</td>\n",
       "      <td>2022-10-18 00:00:00+00:00</td>\n",
       "      <td>5924 days</td>\n",
       "      <td>100.0</td>\n",
       "      <td>74.270866</td>\n",
       "      <td>1.045371e+07</td>\n",
       "      <td>9.041877e+06</td>\n",
       "      <td>9.041777e+06</td>\n",
       "      <td>-75.795680</td>\n",
       "      <td>73.227549</td>\n",
       "      <td>...</td>\n",
       "      <td>12.175537</td>\n",
       "      <td>-8.342310</td>\n",
       "      <td>12 days 00:54:54.915254237</td>\n",
       "      <td>13 days 09:48:10.140845070</td>\n",
       "      <td>2.303589</td>\n",
       "      <td>23184.044678</td>\n",
       "      <td>1.336266</td>\n",
       "      <td>0.822345</td>\n",
       "      <td>1.281332</td>\n",
       "      <td>2.092036</td>\n",
       "    </tr>\n",
       "    <tr>\n",
       "      <th>SQQQ</th>\n",
       "      <th>SQQQ</th>\n",
       "      <td>1999-04-07 00:00:00+00:00</td>\n",
       "      <td>2022-10-18 00:00:00+00:00</td>\n",
       "      <td>5924 days</td>\n",
       "      <td>100.0</td>\n",
       "      <td>35.563083</td>\n",
       "      <td>1.683875e+03</td>\n",
       "      <td>1.480125e+03</td>\n",
       "      <td>1.380125e+03</td>\n",
       "      <td>-99.999973</td>\n",
       "      <td>7.241729</td>\n",
       "      <td>...</td>\n",
       "      <td>10.014137</td>\n",
       "      <td>-7.289226</td>\n",
       "      <td>2 days 08:39:35.257731958</td>\n",
       "      <td>2 days 10:04:26.666666666</td>\n",
       "      <td>2.682986</td>\n",
       "      <td>8.123802</td>\n",
       "      <td>0.617504</td>\n",
       "      <td>0.176093</td>\n",
       "      <td>1.382720</td>\n",
       "      <td>0.984780</td>\n",
       "    </tr>\n",
       "    <tr>\n",
       "      <th>UVXY</th>\n",
       "      <th>UVXY</th>\n",
       "      <td>1999-04-07 00:00:00+00:00</td>\n",
       "      <td>2022-10-18 00:00:00+00:00</td>\n",
       "      <td>5924 days</td>\n",
       "      <td>100.0</td>\n",
       "      <td>95.815675</td>\n",
       "      <td>1.891803e+04</td>\n",
       "      <td>1.891803e+04</td>\n",
       "      <td>1.881803e+04</td>\n",
       "      <td>-100.000000</td>\n",
       "      <td>3.190412</td>\n",
       "      <td>...</td>\n",
       "      <td>13.570371</td>\n",
       "      <td>-4.542983</td>\n",
       "      <td>2 days 12:40:45.283018867</td>\n",
       "      <td>2 days 10:54:32.727272727</td>\n",
       "      <td>62.436518</td>\n",
       "      <td>247.605630</td>\n",
       "      <td>1.086683</td>\n",
       "      <td>0.718410</td>\n",
       "      <td>3.314147</td>\n",
       "      <td>3.587407</td>\n",
       "    </tr>\n",
       "    <tr>\n",
       "      <th>TLT</th>\n",
       "      <th>TLT</th>\n",
       "      <td>1999-04-07 00:00:00+00:00</td>\n",
       "      <td>2022-10-18 00:00:00+00:00</td>\n",
       "      <td>5924 days</td>\n",
       "      <td>100.0</td>\n",
       "      <td>91.964316</td>\n",
       "      <td>1.718486e+02</td>\n",
       "      <td>1.427350e+02</td>\n",
       "      <td>4.273496e+01</td>\n",
       "      <td>194.732172</td>\n",
       "      <td>15.749494</td>\n",
       "      <td>...</td>\n",
       "      <td>1.293369</td>\n",
       "      <td>-1.165640</td>\n",
       "      <td>4 days 10:15:29.032258064</td>\n",
       "      <td>3 days 12:41:32.307692307</td>\n",
       "      <td>1.274152</td>\n",
       "      <td>0.183412</td>\n",
       "      <td>0.384537</td>\n",
       "      <td>0.089135</td>\n",
       "      <td>1.146790</td>\n",
       "      <td>0.568820</td>\n",
       "    </tr>\n",
       "  </tbody>\n",
       "</table>\n",
       "<p>4 rows × 29 columns</p>\n",
       "</div>"
      ],
      "text/plain": [
       "                                Start                       End    Period  \\\n",
       "symbol                                                                      \n",
       "TQQQ   TQQQ 1999-04-07 00:00:00+00:00 2022-10-18 00:00:00+00:00 5924 days   \n",
       "SQQQ   SQQQ 1999-04-07 00:00:00+00:00 2022-10-18 00:00:00+00:00 5924 days   \n",
       "UVXY   UVXY 1999-04-07 00:00:00+00:00 2022-10-18 00:00:00+00:00 5924 days   \n",
       "TLT    TLT  1999-04-07 00:00:00+00:00 2022-10-18 00:00:00+00:00 5924 days   \n",
       "\n",
       "             Start Value  Min Value     Max Value     End Value  \\\n",
       "symbol                                                            \n",
       "TQQQ   TQQQ        100.0  74.270866  1.045371e+07  9.041877e+06   \n",
       "SQQQ   SQQQ        100.0  35.563083  1.683875e+03  1.480125e+03   \n",
       "UVXY   UVXY        100.0  95.815675  1.891803e+04  1.891803e+04   \n",
       "TLT    TLT         100.0  91.964316  1.718486e+02  1.427350e+02   \n",
       "\n",
       "             Total Return [%]  Benchmark Return [%]  Total Time Exposure [%]  \\\n",
       "symbol                                                                         \n",
       "TQQQ   TQQQ      9.041777e+06            -75.795680                73.227549   \n",
       "SQQQ   SQQQ      1.380125e+03            -99.999973                 7.241729   \n",
       "UVXY   UVXY      1.881803e+04           -100.000000                 3.190412   \n",
       "TLT    TLT       4.273496e+01            194.732172                15.749494   \n",
       "\n",
       "             ...  Avg Winning Trade [%]  Avg Losing Trade [%]  \\\n",
       "symbol       ...                                                \n",
       "TQQQ   TQQQ  ...              12.175537             -8.342310   \n",
       "SQQQ   SQQQ  ...              10.014137             -7.289226   \n",
       "UVXY   UVXY  ...              13.570371             -4.542983   \n",
       "TLT    TLT   ...               1.293369             -1.165640   \n",
       "\n",
       "            Avg Winning Trade Duration  Avg Losing Trade Duration  \\\n",
       "symbol                                                              \n",
       "TQQQ   TQQQ 12 days 00:54:54.915254237 13 days 09:48:10.140845070   \n",
       "SQQQ   SQQQ  2 days 08:39:35.257731958  2 days 10:04:26.666666666   \n",
       "UVXY   UVXY  2 days 12:40:45.283018867  2 days 10:54:32.727272727   \n",
       "TLT    TLT   4 days 10:15:29.032258064  3 days 12:41:32.307692307   \n",
       "\n",
       "             Profit Factor    Expectancy  Sharpe Ratio  Calmar Ratio  \\\n",
       "symbol                                                                 \n",
       "TQQQ   TQQQ       2.303589  23184.044678      1.336266      0.822345   \n",
       "SQQQ   SQQQ       2.682986      8.123802      0.617504      0.176093   \n",
       "UVXY   UVXY      62.436518    247.605630      1.086683      0.718410   \n",
       "TLT    TLT        1.274152      0.183412      0.384537      0.089135   \n",
       "\n",
       "             Omega Ratio  Sortino Ratio  \n",
       "symbol                                   \n",
       "TQQQ   TQQQ     1.281332       2.092036  \n",
       "SQQQ   SQQQ     1.382720       0.984780  \n",
       "UVXY   UVXY     3.314147       3.587407  \n",
       "TLT    TLT      1.146790       0.568820  \n",
       "\n",
       "[4 rows x 29 columns]"
      ]
     },
     "execution_count": 36,
     "metadata": {},
     "output_type": "execute_result"
    }
   ],
   "source": [
    "single_asset_stats = portfolio_not_grouped.stats(agg_func=None)\n",
    "single_asset_stats"
   ]
  },
  {
   "cell_type": "code",
   "execution_count": 37,
   "metadata": {},
   "outputs": [
    {
     "data": {
      "text/plain": [
       "Start                         1999-04-07 00:00:00+00:00\n",
       "End                           2022-10-18 00:00:00+00:00\n",
       "Period                               5924 days 00:00:00\n",
       "Start Value                                       100.0\n",
       "Min Value                                     95.815675\n",
       "Max Value                                  18918.027881\n",
       "End Value                                  18918.027881\n",
       "Total Return [%]                           18818.027881\n",
       "Benchmark Return [%]                             -100.0\n",
       "Total Time Exposure [%]                        3.190412\n",
       "Max Gross Exposure [%]                            100.0\n",
       "Max Drawdown [%]                              34.706887\n",
       "Max Drawdown Duration                 323 days 00:00:00\n",
       "Total Orders                                        152\n",
       "Total Fees Paid                                     0.0\n",
       "Total Trades                                         76\n",
       "Win Rate [%]                                  69.736842\n",
       "Best Trade [%]                                65.372054\n",
       "Worst Trade [%]                              -20.203265\n",
       "Avg Winning Trade [%]                         13.570371\n",
       "Avg Losing Trade [%]                          -4.542983\n",
       "Avg Winning Trade Duration    2 days 12:40:45.283018867\n",
       "Avg Losing Trade Duration     2 days 10:54:32.727272727\n",
       "Profit Factor                                 62.436518\n",
       "Expectancy                                    247.60563\n",
       "Sharpe Ratio                                   1.086683\n",
       "Calmar Ratio                                    0.71841\n",
       "Omega Ratio                                    3.314147\n",
       "Sortino Ratio                                  3.587407\n",
       "Name: 2, dtype: object"
      ]
     },
     "execution_count": 37,
     "metadata": {},
     "output_type": "execute_result"
    }
   ],
   "source": [
    "# Alternative way to grab the stats for a specific asset, in this case SQQQ\n",
    "portfolio_not_grouped.stats(group_by=False, column=2)"
   ]
  },
  {
   "cell_type": "markdown",
   "metadata": {},
   "source": [
    "We can get even more detailed returns stats for each single asset, and then potentially analyzing or plotting them in many different ways."
   ]
  },
  {
   "cell_type": "code",
   "execution_count": 38,
   "metadata": {},
   "outputs": [
    {
     "data": {
      "text/html": [
       "<div>\n",
       "<style scoped>\n",
       "    .dataframe tbody tr th:only-of-type {\n",
       "        vertical-align: middle;\n",
       "    }\n",
       "\n",
       "    .dataframe tbody tr th {\n",
       "        vertical-align: top;\n",
       "    }\n",
       "\n",
       "    .dataframe thead th {\n",
       "        text-align: right;\n",
       "    }\n",
       "</style>\n",
       "<table border=\"1\" class=\"dataframe\">\n",
       "  <thead>\n",
       "    <tr style=\"text-align: right;\">\n",
       "      <th></th>\n",
       "      <th></th>\n",
       "      <th>Start</th>\n",
       "      <th>End</th>\n",
       "      <th>Period</th>\n",
       "      <th>Total Return [%]</th>\n",
       "      <th>Benchmark Return [%]</th>\n",
       "      <th>Annualized Return [%]</th>\n",
       "      <th>Annualized Volatility [%]</th>\n",
       "      <th>Max Drawdown [%]</th>\n",
       "      <th>Max Drawdown Duration</th>\n",
       "      <th>Sharpe Ratio</th>\n",
       "      <th>Calmar Ratio</th>\n",
       "      <th>Omega Ratio</th>\n",
       "      <th>Sortino Ratio</th>\n",
       "      <th>Skew</th>\n",
       "      <th>Kurtosis</th>\n",
       "      <th>Tail Ratio</th>\n",
       "      <th>Common Sense Ratio</th>\n",
       "      <th>Value at Risk</th>\n",
       "      <th>Alpha</th>\n",
       "      <th>Beta</th>\n",
       "    </tr>\n",
       "    <tr>\n",
       "      <th>symbol</th>\n",
       "      <th></th>\n",
       "      <th></th>\n",
       "      <th></th>\n",
       "      <th></th>\n",
       "      <th></th>\n",
       "      <th></th>\n",
       "      <th></th>\n",
       "      <th></th>\n",
       "      <th></th>\n",
       "      <th></th>\n",
       "      <th></th>\n",
       "      <th></th>\n",
       "      <th></th>\n",
       "      <th></th>\n",
       "      <th></th>\n",
       "      <th></th>\n",
       "      <th></th>\n",
       "      <th></th>\n",
       "      <th></th>\n",
       "      <th></th>\n",
       "      <th></th>\n",
       "    </tr>\n",
       "  </thead>\n",
       "  <tbody>\n",
       "    <tr>\n",
       "      <th>TQQQ</th>\n",
       "      <th>TQQQ</th>\n",
       "      <td>1999-04-07 00:00:00+00:00</td>\n",
       "      <td>2022-10-18 00:00:00+00:00</td>\n",
       "      <td>5924 days</td>\n",
       "      <td>9.041777e+06</td>\n",
       "      <td>-75.795680</td>\n",
       "      <td>62.349412</td>\n",
       "      <td>71.354278</td>\n",
       "      <td>75.819009</td>\n",
       "      <td>875 days</td>\n",
       "      <td>1.336266</td>\n",
       "      <td>0.822345</td>\n",
       "      <td>1.281332</td>\n",
       "      <td>2.092036</td>\n",
       "      <td>1.141272</td>\n",
       "      <td>17.109108</td>\n",
       "      <td>1.024298</td>\n",
       "      <td>1.662942</td>\n",
       "      <td>-0.054903</td>\n",
       "      <td>1.098805</td>\n",
       "      <td>0.513265</td>\n",
       "    </tr>\n",
       "    <tr>\n",
       "      <th>SQQQ</th>\n",
       "      <th>SQQQ</th>\n",
       "      <td>1999-04-07 00:00:00+00:00</td>\n",
       "      <td>2022-10-18 00:00:00+00:00</td>\n",
       "      <td>5924 days</td>\n",
       "      <td>1.380125e+03</td>\n",
       "      <td>-99.999973</td>\n",
       "      <td>12.122497</td>\n",
       "      <td>39.486874</td>\n",
       "      <td>68.841582</td>\n",
       "      <td>3217 days</td>\n",
       "      <td>0.617504</td>\n",
       "      <td>0.176093</td>\n",
       "      <td>1.382720</td>\n",
       "      <td>0.984780</td>\n",
       "      <td>1.195679</td>\n",
       "      <td>61.734717</td>\n",
       "      <td>inf</td>\n",
       "      <td>inf</td>\n",
       "      <td>0.000000</td>\n",
       "      <td>0.363114</td>\n",
       "      <td>0.156942</td>\n",
       "    </tr>\n",
       "    <tr>\n",
       "      <th>UVXY</th>\n",
       "      <th>UVXY</th>\n",
       "      <td>1999-04-07 00:00:00+00:00</td>\n",
       "      <td>2022-10-18 00:00:00+00:00</td>\n",
       "      <td>5924 days</td>\n",
       "      <td>1.881803e+04</td>\n",
       "      <td>-100.000000</td>\n",
       "      <td>24.933761</td>\n",
       "      <td>34.343159</td>\n",
       "      <td>34.706887</td>\n",
       "      <td>323 days</td>\n",
       "      <td>1.086683</td>\n",
       "      <td>0.718410</td>\n",
       "      <td>3.314147</td>\n",
       "      <td>3.587407</td>\n",
       "      <td>16.572080</td>\n",
       "      <td>401.969725</td>\n",
       "      <td>inf</td>\n",
       "      <td>inf</td>\n",
       "      <td>0.000000</td>\n",
       "      <td>0.470850</td>\n",
       "      <td>0.013698</td>\n",
       "    </tr>\n",
       "    <tr>\n",
       "      <th>TLT</th>\n",
       "      <th>TLT</th>\n",
       "      <td>1999-04-07 00:00:00+00:00</td>\n",
       "      <td>2022-10-18 00:00:00+00:00</td>\n",
       "      <td>5924 days</td>\n",
       "      <td>4.273496e+01</td>\n",
       "      <td>194.732172</td>\n",
       "      <td>1.522337</td>\n",
       "      <td>6.200627</td>\n",
       "      <td>17.079081</td>\n",
       "      <td>1869 days</td>\n",
       "      <td>0.384537</td>\n",
       "      <td>0.089135</td>\n",
       "      <td>1.146790</td>\n",
       "      <td>0.568820</td>\n",
       "      <td>0.613140</td>\n",
       "      <td>27.380370</td>\n",
       "      <td>1.359131</td>\n",
       "      <td>1.379821</td>\n",
       "      <td>-0.002743</td>\n",
       "      <td>0.012374</td>\n",
       "      <td>0.144512</td>\n",
       "    </tr>\n",
       "  </tbody>\n",
       "</table>\n",
       "</div>"
      ],
      "text/plain": [
       "                                Start                       End    Period  \\\n",
       "symbol                                                                      \n",
       "TQQQ   TQQQ 1999-04-07 00:00:00+00:00 2022-10-18 00:00:00+00:00 5924 days   \n",
       "SQQQ   SQQQ 1999-04-07 00:00:00+00:00 2022-10-18 00:00:00+00:00 5924 days   \n",
       "UVXY   UVXY 1999-04-07 00:00:00+00:00 2022-10-18 00:00:00+00:00 5924 days   \n",
       "TLT    TLT  1999-04-07 00:00:00+00:00 2022-10-18 00:00:00+00:00 5924 days   \n",
       "\n",
       "             Total Return [%]  Benchmark Return [%]  Annualized Return [%]  \\\n",
       "symbol                                                                       \n",
       "TQQQ   TQQQ      9.041777e+06            -75.795680              62.349412   \n",
       "SQQQ   SQQQ      1.380125e+03            -99.999973              12.122497   \n",
       "UVXY   UVXY      1.881803e+04           -100.000000              24.933761   \n",
       "TLT    TLT       4.273496e+01            194.732172               1.522337   \n",
       "\n",
       "             Annualized Volatility [%]  Max Drawdown [%]  \\\n",
       "symbol                                                     \n",
       "TQQQ   TQQQ                  71.354278         75.819009   \n",
       "SQQQ   SQQQ                  39.486874         68.841582   \n",
       "UVXY   UVXY                  34.343159         34.706887   \n",
       "TLT    TLT                    6.200627         17.079081   \n",
       "\n",
       "            Max Drawdown Duration  Sharpe Ratio  Calmar Ratio  Omega Ratio  \\\n",
       "symbol                                                                       \n",
       "TQQQ   TQQQ              875 days      1.336266      0.822345     1.281332   \n",
       "SQQQ   SQQQ             3217 days      0.617504      0.176093     1.382720   \n",
       "UVXY   UVXY              323 days      1.086683      0.718410     3.314147   \n",
       "TLT    TLT              1869 days      0.384537      0.089135     1.146790   \n",
       "\n",
       "             Sortino Ratio       Skew    Kurtosis  Tail Ratio  \\\n",
       "symbol                                                          \n",
       "TQQQ   TQQQ       2.092036   1.141272   17.109108    1.024298   \n",
       "SQQQ   SQQQ       0.984780   1.195679   61.734717         inf   \n",
       "UVXY   UVXY       3.587407  16.572080  401.969725         inf   \n",
       "TLT    TLT        0.568820   0.613140   27.380370    1.359131   \n",
       "\n",
       "             Common Sense Ratio  Value at Risk     Alpha      Beta  \n",
       "symbol                                                              \n",
       "TQQQ   TQQQ            1.662942      -0.054903  1.098805  0.513265  \n",
       "SQQQ   SQQQ                 inf       0.000000  0.363114  0.156942  \n",
       "UVXY   UVXY                 inf       0.000000  0.470850  0.013698  \n",
       "TLT    TLT             1.379821      -0.002743  0.012374  0.144512  "
      ]
     },
     "execution_count": 38,
     "metadata": {},
     "output_type": "execute_result"
    }
   ],
   "source": [
    "# Even more detailed returns stats for each single asset\n",
    "single_asset_returns = portfolio_not_grouped.returns_stats(agg_func=None)\n",
    "single_asset_returns"
   ]
  },
  {
   "cell_type": "code",
   "execution_count": 39,
   "metadata": {},
   "outputs": [
    {
     "data": {
      "text/plain": [
       "<AxesSubplot: xlabel='Date'>"
      ]
     },
     "execution_count": 39,
     "metadata": {},
     "output_type": "execute_result"
    },
    {
     "data": {
      "image/png": "[encoded data removed]",
      "text/plain": [
       "<Figure size 640x480 with 1 Axes>"
      ]
     },
     "metadata": {},
     "output_type": "display_data"
    }
   ],
   "source": [
    "single_asset_annual_returns = portfolio_not_grouped.get_annual_returns()\n",
    "single_asset_annual_returns.plot()\n",
    "# It's also possible to do a yearly bar chart with this data"
   ]
  },
  {
   "cell_type": "markdown",
   "metadata": {},
   "source": [
    "Remember the huge number of plots we generated earlier? There's the ability to do the same thing for each of the assets in the portfolioto plot a single asset of the portfolio with orders, trade pnl and returns. It's possible to specify additional subplots. Let's try see all the possibilities."
   ]
  },
  {
   "cell_type": "code",
   "execution_count": 40,
   "metadata": {},
   "outputs": [
    {
     "data": {
      "application/vnd.jupyter.widget-view+json": {
       "model_id": "9c59aa23797341bfaf25bd1f97322b9d",
       "version_major": 2,
       "version_minor": 0
      },
      "text/plain": [
       "FigureWidget({\n",
       "    'data': [{'legendgroup': '0',\n",
       "              'line': {'color': '#1f77b4'},\n",
       "              'mo…"
      ]
     },
     "metadata": {},
     "output_type": "display_data"
    }
   ],
   "source": [
    "# We plot all the available plots for column 3 aka TLT\n",
    "portfolio_not_grouped.plot(column=3, subplots=\"all\") # we're plotting all the possible subplots just for reference"
   ]
  },
  {
   "cell_type": "markdown",
   "metadata": {},
   "source": [
    "There is really so much more that can be done, once you get familiar with how things work. Feel free to contact me on discord ( **Raekon#7854** ) if you need any help running this demo"
   ]
  }
 ],
 "metadata": {
  "kernelspec": {
   "display_name": "Python 3.10.8 ('env': venv)",
   "language": "python",
   "name": "python3"
  },
  "language_info": {
   "codemirror_mode": {
    "name": "ipython",
    "version": 3
   },
   "file_extension": ".py",
   "mimetype": "text/x-python",
   "name": "python",
   "nbconvert_exporter": "python",
   "pygments_lexer": "ipython3",
   "version": "3.10.8"
  },
  "orig_nbformat": 4,
  "vscode": {
   "interpreter": {
    "hash": "b44d126926732ef56bc2c5ce2f1cd03ca4de83837ce090efc0a2c4530b7ce252"
   }
  }
 },
 "nbformat": 4,
 "nbformat_minor": 2
}
